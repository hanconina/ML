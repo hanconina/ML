{
 "cells": [
  {
   "cell_type": "markdown",
   "metadata": {
    "id": "Z2t5d-o4Hv1v"
   },
   "source": [
    "# NumPy"
   ]
  },
  {
   "cell_type": "code",
   "execution_count": null,
   "metadata": {
    "id": "ojUQj2fzIbZQ"
   },
   "outputs": [],
   "source": [
    "import numpy as np"
   ]
  },
  {
   "cell_type": "markdown",
   "metadata": {
    "id": "KXPwZZNnIUfq"
   },
   "source": [
    "## Crear Arreglos de diferentes dimensiones"
   ]
  },
  {
   "cell_type": "code",
   "execution_count": null,
   "metadata": {
    "colab": {
     "base_uri": "https://localhost:8080/"
    },
    "id": "-nyShFn8HtMc",
    "outputId": "428a331d-75a1-4345-8cab-db549f0a8f1c"
   },
   "outputs": [
    {
     "data": {
      "text/plain": [
       "array(10)"
      ]
     },
     "execution_count": 2,
     "metadata": {
      "tags": []
     },
     "output_type": "execute_result"
    }
   ],
   "source": [
    "value = 10 #rank 0\n",
    "value_as_array = np.array(value)\n",
    "\n",
    "value_as_array"
   ]
  },
  {
   "cell_type": "code",
   "execution_count": null,
   "metadata": {
    "colab": {
     "base_uri": "https://localhost:8080/"
    },
    "id": "4rhBbF-XI-xy",
    "outputId": "810837c0-540e-4812-d860-625d969e7ae6"
   },
   "outputs": [
    {
     "data": {
      "text/plain": [
       "array([21, 83, 42, 35])"
      ]
     },
     "execution_count": 3,
     "metadata": {
      "tags": []
     },
     "output_type": "execute_result"
    }
   ],
   "source": [
    "value = [21, 83, 42, 35] #rank 1\n",
    "value_as_array = np.array(value)\n",
    "\n",
    "value_as_array"
   ]
  },
  {
   "cell_type": "code",
   "execution_count": null,
   "metadata": {
    "colab": {
     "base_uri": "https://localhost:8080/"
    },
    "id": "3AZUtuz2JTAR",
    "outputId": "4868e1ee-2d8d-483a-bc68-f98150fe8b06"
   },
   "outputs": [
    {
     "data": {
      "text/plain": [
       "array([[21, 83, 42],\n",
       "       [35, 12, 67]])"
      ]
     },
     "execution_count": 4,
     "metadata": {
      "tags": []
     },
     "output_type": "execute_result"
    }
   ],
   "source": [
    "value = [[21, 83, 42],\n",
    "         [35, 12, 67]] #rank 2\n",
    "value_as_array = np.array(value)\n",
    "\n",
    "value_as_array"
   ]
  },
  {
   "cell_type": "code",
   "execution_count": null,
   "metadata": {
    "colab": {
     "base_uri": "https://localhost:8080/"
    },
    "id": "a-D_5y5SJ2xF",
    "outputId": "e28508be-d93a-45ee-a072-7831de0863b6"
   },
   "outputs": [
    {
     "data": {
      "text/plain": [
       "array([[[21, 83, 42],\n",
       "        [35, 12, 67]],\n",
       "\n",
       "       [[56, 98, 24],\n",
       "        [64, 78, 98]]])"
      ]
     },
     "execution_count": 5,
     "metadata": {
      "tags": []
     },
     "output_type": "execute_result"
    }
   ],
   "source": [
    "value = [ [[21, 83, 42],\n",
    "           [35, 12, 67]],\n",
    "          [[56, 98, 24],\n",
    "           [64, 78, 98]] ] #rank 3\n",
    "value_as_array = np.array(value)\n",
    "\n",
    "value_as_array"
   ]
  },
  {
   "cell_type": "markdown",
   "metadata": {
    "id": "jluy5bfBObHL"
   },
   "source": [
    "## Atributos de los Arreglos"
   ]
  },
  {
   "cell_type": "code",
   "execution_count": null,
   "metadata": {
    "id": "trX7c8SVOcS2"
   },
   "outputs": [],
   "source": [
    "value = [[21, 83, 42],\n",
    "         [35, 12, 67]]\n",
    "value_as_array = np.array(value)"
   ]
  },
  {
   "cell_type": "code",
   "execution_count": null,
   "metadata": {
    "colab": {
     "base_uri": "https://localhost:8080/"
    },
    "id": "D2JjvkvXOtKO",
    "outputId": "925170dd-d028-4a84-c1d3-759da96f0444"
   },
   "outputs": [
    {
     "data": {
      "text/plain": [
       "2"
      ]
     },
     "execution_count": 7,
     "metadata": {
      "tags": []
     },
     "output_type": "execute_result"
    }
   ],
   "source": [
    "#Number of axes\n",
    "value_as_array.ndim"
   ]
  },
  {
   "cell_type": "code",
   "execution_count": null,
   "metadata": {
    "colab": {
     "base_uri": "https://localhost:8080/"
    },
    "id": "JWgLmCuhOgq0",
    "outputId": "d49e88d3-fdae-47aa-a843-1327dd3e05e7"
   },
   "outputs": [
    {
     "data": {
      "text/plain": [
       "(2, 3)"
      ]
     },
     "execution_count": 8,
     "metadata": {
      "tags": []
     },
     "output_type": "execute_result"
    }
   ],
   "source": [
    "#Length (number of elements) of each of the axes of a Tensor\n",
    "value_as_array.shape"
   ]
  },
  {
   "cell_type": "code",
   "execution_count": null,
   "metadata": {
    "colab": {
     "base_uri": "https://localhost:8080/"
    },
    "id": "eIQqVStpOicT",
    "outputId": "83eac763-d19a-4be5-db22-95ffa1c9f263"
   },
   "outputs": [
    {
     "data": {
      "text/plain": [
       "dtype('int64')"
      ]
     },
     "execution_count": 9,
     "metadata": {
      "tags": []
     },
     "output_type": "execute_result"
    }
   ],
   "source": [
    "#Type of every element in the Tensor\n",
    "value_as_array.dtype"
   ]
  },
  {
   "cell_type": "markdown",
   "metadata": {
    "id": "Xh-1pX-2KwMA"
   },
   "source": [
    "## Operaciones con Arreglos"
   ]
  },
  {
   "cell_type": "code",
   "execution_count": null,
   "metadata": {
    "id": "S-PJZP1KKysL"
   },
   "outputs": [],
   "source": [
    "value_1 = [[21, 83],\n",
    "           [42, 35]]\n",
    "value_2 = [[95, 78],\n",
    "           [65, 32]]\n",
    "\n",
    "array_1 = np.array(value_1)\n",
    "array_2 = np.array(value_2)"
   ]
  },
  {
   "cell_type": "markdown",
   "metadata": {
    "id": "N96d9WmXLNKH"
   },
   "source": [
    "### Suma"
   ]
  },
  {
   "cell_type": "code",
   "execution_count": null,
   "metadata": {
    "colab": {
     "base_uri": "https://localhost:8080/"
    },
    "id": "ut3GATpYK3My",
    "outputId": "277984a5-7bdf-4005-8207-c0821bc5c69f"
   },
   "outputs": [
    {
     "data": {
      "text/plain": [
       "array([[116, 161],\n",
       "       [107,  67]])"
      ]
     },
     "execution_count": 11,
     "metadata": {
      "tags": []
     },
     "output_type": "execute_result"
    }
   ],
   "source": [
    "np.add(array_1, array_2)"
   ]
  },
  {
   "cell_type": "code",
   "execution_count": null,
   "metadata": {
    "colab": {
     "base_uri": "https://localhost:8080/"
    },
    "id": "rAB19QiBLOVE",
    "outputId": "7095bffd-ea45-42c7-c1b0-47034d3d6197"
   },
   "outputs": [
    {
     "data": {
      "text/plain": [
       "array([[116, 161],\n",
       "       [107,  67]])"
      ]
     },
     "execution_count": 12,
     "metadata": {
      "tags": []
     },
     "output_type": "execute_result"
    }
   ],
   "source": [
    "array_1 + array_2"
   ]
  },
  {
   "cell_type": "markdown",
   "metadata": {
    "id": "IXSABwKKLVxC"
   },
   "source": [
    "### Resta"
   ]
  },
  {
   "cell_type": "code",
   "execution_count": null,
   "metadata": {
    "colab": {
     "base_uri": "https://localhost:8080/"
    },
    "id": "WlQUFEq6LYpB",
    "outputId": "735ccb7b-c784-4628-97e2-bfe1cb4d499a"
   },
   "outputs": [
    {
     "data": {
      "text/plain": [
       "array([[-74,   5],\n",
       "       [-23,   3]])"
      ]
     },
     "execution_count": 13,
     "metadata": {
      "tags": []
     },
     "output_type": "execute_result"
    }
   ],
   "source": [
    "np.subtract(array_1, array_2)"
   ]
  },
  {
   "cell_type": "code",
   "execution_count": null,
   "metadata": {
    "colab": {
     "base_uri": "https://localhost:8080/"
    },
    "id": "TxkqsFfFLYpC",
    "outputId": "2f35a4ac-78dc-440f-e3eb-7729f51b20b9"
   },
   "outputs": [
    {
     "data": {
      "text/plain": [
       "array([[-74,   5],\n",
       "       [-23,   3]])"
      ]
     },
     "execution_count": 14,
     "metadata": {
      "tags": []
     },
     "output_type": "execute_result"
    }
   ],
   "source": [
    "array_1 - array_2"
   ]
  },
  {
   "cell_type": "markdown",
   "metadata": {
    "id": "3nXQm4MHLh5y"
   },
   "source": [
    "### Multiplicación de elementos"
   ]
  },
  {
   "cell_type": "code",
   "execution_count": null,
   "metadata": {
    "colab": {
     "base_uri": "https://localhost:8080/"
    },
    "id": "mpCvq3wDLh52",
    "outputId": "78f47142-d6be-4893-a6ce-9145b0b3f2b4"
   },
   "outputs": [
    {
     "data": {
      "text/plain": [
       "array([[1995, 6474],\n",
       "       [2730, 1120]])"
      ]
     },
     "execution_count": 15,
     "metadata": {
      "tags": []
     },
     "output_type": "execute_result"
    }
   ],
   "source": [
    "np.multiply(array_1, array_2)"
   ]
  },
  {
   "cell_type": "code",
   "execution_count": null,
   "metadata": {
    "colab": {
     "base_uri": "https://localhost:8080/"
    },
    "id": "Rws8PxuQLh52",
    "outputId": "083ad6b2-44e6-40f2-b160-fe03b5e85655"
   },
   "outputs": [
    {
     "data": {
      "text/plain": [
       "array([[1995, 6474],\n",
       "       [2730, 1120]])"
      ]
     },
     "execution_count": 16,
     "metadata": {
      "tags": []
     },
     "output_type": "execute_result"
    }
   ],
   "source": [
    "array_1 * array_2"
   ]
  },
  {
   "cell_type": "markdown",
   "metadata": {
    "id": "qMxqCFVBLq5I"
   },
   "source": [
    "### Multiplicación de matrices"
   ]
  },
  {
   "cell_type": "code",
   "execution_count": null,
   "metadata": {
    "colab": {
     "base_uri": "https://localhost:8080/"
    },
    "id": "vm9xs1JLLq5I",
    "outputId": "3cd1b255-cf8d-468a-92da-215196e6644e"
   },
   "outputs": [
    {
     "data": {
      "text/plain": [
       "array([[7390, 4294],\n",
       "       [6265, 4396]])"
      ]
     },
     "execution_count": 17,
     "metadata": {
      "tags": []
     },
     "output_type": "execute_result"
    }
   ],
   "source": [
    "np.matmul(array_1, array_2)"
   ]
  },
  {
   "cell_type": "code",
   "execution_count": null,
   "metadata": {
    "colab": {
     "base_uri": "https://localhost:8080/"
    },
    "id": "t3cplPcPLq5I",
    "outputId": "f2c0895f-1bfe-4cc1-e543-be494689bc4d"
   },
   "outputs": [
    {
     "data": {
      "text/plain": [
       "array([[7390, 4294],\n",
       "       [6265, 4396]])"
      ]
     },
     "execution_count": 18,
     "metadata": {
      "tags": []
     },
     "output_type": "execute_result"
    }
   ],
   "source": [
    "array_1 @ array_2"
   ]
  },
  {
   "cell_type": "markdown",
   "metadata": {
    "id": "8tpI2OA8dx_1"
   },
   "source": [
    "## Obtener la transpuesta"
   ]
  },
  {
   "cell_type": "code",
   "execution_count": null,
   "metadata": {
    "id": "A2FIcO9Od088"
   },
   "outputs": [],
   "source": [
    "value = [ [[21, 83, 42],\n",
    "           [35, 12, 67]],\n",
    "          [[56, 98, 24],\n",
    "           [64, 78, 98]] ]\n",
    "value_as_array = np.array(value)"
   ]
  },
  {
   "cell_type": "code",
   "execution_count": null,
   "metadata": {
    "colab": {
     "base_uri": "https://localhost:8080/"
    },
    "id": "9WpoPKgcd9gc",
    "outputId": "e7061861-9056-487f-e286-6b5591dc59fb"
   },
   "outputs": [
    {
     "data": {
      "text/plain": [
       "array([[[21, 56],\n",
       "        [35, 64]],\n",
       "\n",
       "       [[83, 98],\n",
       "        [12, 78]],\n",
       "\n",
       "       [[42, 24],\n",
       "        [67, 98]]])"
      ]
     },
     "execution_count": 20,
     "metadata": {
      "tags": []
     },
     "output_type": "execute_result"
    }
   ],
   "source": [
    "np.transpose(value_as_array)"
   ]
  },
  {
   "cell_type": "code",
   "execution_count": null,
   "metadata": {
    "colab": {
     "base_uri": "https://localhost:8080/"
    },
    "id": "IWSQQg8wd7pP",
    "outputId": "8863f6f1-f845-4395-d9d9-bf72ceb536ac"
   },
   "outputs": [
    {
     "data": {
      "text/plain": [
       "array([[[21, 56],\n",
       "        [35, 64]],\n",
       "\n",
       "       [[83, 98],\n",
       "        [12, 78]],\n",
       "\n",
       "       [[42, 24],\n",
       "        [67, 98]]])"
      ]
     },
     "execution_count": 21,
     "metadata": {
      "tags": []
     },
     "output_type": "execute_result"
    }
   ],
   "source": [
    "value_as_array.T"
   ]
  },
  {
   "cell_type": "markdown",
   "metadata": {
    "id": "-nsScr9tfpCt"
   },
   "source": [
    "## Obtener la inversa"
   ]
  },
  {
   "cell_type": "code",
   "execution_count": null,
   "metadata": {
    "id": "PbIW2R1RfpCt"
   },
   "outputs": [],
   "source": [
    "value = [[21, 83],\n",
    "         [35, 12]]\n",
    "value_as_array = np.array(value, dtype=np.float32)"
   ]
  },
  {
   "cell_type": "code",
   "execution_count": null,
   "metadata": {
    "colab": {
     "base_uri": "https://localhost:8080/"
    },
    "id": "8bJONttAfpCt",
    "outputId": "868f941b-909b-4d10-acb1-452743d329bd"
   },
   "outputs": [
    {
     "data": {
      "text/plain": [
       "array([[-0.00452318,  0.03128534],\n",
       "       [ 0.01319261, -0.00791557]], dtype=float32)"
      ]
     },
     "execution_count": 23,
     "metadata": {
      "tags": []
     },
     "output_type": "execute_result"
    }
   ],
   "source": [
    "np.linalg.inv(value_as_array)"
   ]
  },
  {
   "cell_type": "markdown",
   "metadata": {
    "id": "tJE_5llnPQCK"
   },
   "source": [
    "## Obtener la cantidad de elementos"
   ]
  },
  {
   "cell_type": "code",
   "execution_count": null,
   "metadata": {
    "id": "w_DOJMOZPQCR"
   },
   "outputs": [],
   "source": [
    "value = [ [[21, 83, 42],\n",
    "           [35, 12, 67]],\n",
    "          [[56, 98, 24],\n",
    "           [64, 78, 98]] ]\n",
    "value_as_array = np.array(value)"
   ]
  },
  {
   "cell_type": "code",
   "execution_count": null,
   "metadata": {
    "colab": {
     "base_uri": "https://localhost:8080/"
    },
    "id": "Y15bYtRmYQF_",
    "outputId": "405462a5-43a9-4b14-a432-fa5de4918997"
   },
   "outputs": [
    {
     "data": {
      "text/plain": [
       "12"
      ]
     },
     "execution_count": 25,
     "metadata": {
      "tags": []
     },
     "output_type": "execute_result"
    }
   ],
   "source": [
    "np.size(value_as_array)"
   ]
  },
  {
   "cell_type": "code",
   "execution_count": null,
   "metadata": {
    "colab": {
     "base_uri": "https://localhost:8080/"
    },
    "id": "h1RGY8HjYQnt",
    "outputId": "2dc056f1-5c81-46fd-cce1-53798f6e5596"
   },
   "outputs": [
    {
     "data": {
      "text/plain": [
       "12"
      ]
     },
     "execution_count": 26,
     "metadata": {
      "tags": []
     },
     "output_type": "execute_result"
    }
   ],
   "source": [
    "value_as_array.size"
   ]
  },
  {
   "cell_type": "markdown",
   "metadata": {
    "id": "QIAvlQrlMkAg"
   },
   "source": [
    "## Obtener el mayor elemento"
   ]
  },
  {
   "cell_type": "code",
   "execution_count": null,
   "metadata": {
    "id": "zsaTlseIMkAo"
   },
   "outputs": [],
   "source": [
    "value = [ [[21, 83, 42],\n",
    "           [35, 12, 67]],\n",
    "          [[56, 98, 24],\n",
    "           [64, 78, 98]] ]\n",
    "value_as_array = np.array(value)"
   ]
  },
  {
   "cell_type": "code",
   "execution_count": null,
   "metadata": {
    "colab": {
     "base_uri": "https://localhost:8080/"
    },
    "id": "m-MxbO73N_av",
    "outputId": "39f3bf8c-85a0-4dbe-dee1-cc89ace332ca"
   },
   "outputs": [
    {
     "data": {
      "text/plain": [
       "array([[56, 98, 42],\n",
       "       [64, 78, 98]])"
      ]
     },
     "execution_count": 28,
     "metadata": {
      "tags": []
     },
     "output_type": "execute_result"
    }
   ],
   "source": [
    "np.max(value_as_array, axis=0)"
   ]
  },
  {
   "cell_type": "code",
   "execution_count": null,
   "metadata": {
    "colab": {
     "base_uri": "https://localhost:8080/"
    },
    "id": "m-85d0kdYZPm",
    "outputId": "431f4856-4d21-4cd3-b71d-a823dca06076"
   },
   "outputs": [
    {
     "data": {
      "text/plain": [
       "array([[35, 83, 67],\n",
       "       [64, 98, 98]])"
      ]
     },
     "execution_count": 29,
     "metadata": {
      "tags": []
     },
     "output_type": "execute_result"
    }
   ],
   "source": [
    "np.max(value_as_array, axis=1)"
   ]
  },
  {
   "cell_type": "code",
   "execution_count": null,
   "metadata": {
    "colab": {
     "base_uri": "https://localhost:8080/"
    },
    "id": "AC9ui_nAOBEV",
    "outputId": "f60a7439-583c-4720-978f-30e007a59e5e"
   },
   "outputs": [
    {
     "data": {
      "text/plain": [
       "array([[83, 67],\n",
       "       [98, 98]])"
      ]
     },
     "execution_count": 30,
     "metadata": {
      "tags": []
     },
     "output_type": "execute_result"
    }
   ],
   "source": [
    "np.max(value_as_array, axis=2)"
   ]
  },
  {
   "cell_type": "code",
   "execution_count": null,
   "metadata": {
    "colab": {
     "base_uri": "https://localhost:8080/"
    },
    "id": "kKwxlgjhOCjk",
    "outputId": "5a1880f3-3989-463c-f643-348d7310b676"
   },
   "outputs": [
    {
     "data": {
      "text/plain": [
       "array([[83, 67],\n",
       "       [98, 98]])"
      ]
     },
     "execution_count": 31,
     "metadata": {
      "tags": []
     },
     "output_type": "execute_result"
    }
   ],
   "source": [
    "np.max(value_as_array, axis=-1) #-1: last_possible_axis"
   ]
  },
  {
   "cell_type": "markdown",
   "metadata": {
    "id": "61isQk4NMNh0"
   },
   "source": [
    "## Obtener el índice del mayor elemento"
   ]
  },
  {
   "cell_type": "code",
   "execution_count": null,
   "metadata": {
    "id": "L3M80xs7MQ7T"
   },
   "outputs": [],
   "source": [
    "value = [ [[21, 83, 42],\n",
    "           [35, 12, 67]],\n",
    "          [[56, 98, 24],\n",
    "           [64, 78, 98]] ]\n",
    "value_as_array = np.array(value)"
   ]
  },
  {
   "cell_type": "code",
   "execution_count": null,
   "metadata": {
    "colab": {
     "base_uri": "https://localhost:8080/"
    },
    "id": "kfyZOuhKMpdt",
    "outputId": "2756c04f-35ee-4160-936d-da7006668f76"
   },
   "outputs": [
    {
     "data": {
      "text/plain": [
       "array([[1, 1, 0],\n",
       "       [1, 1, 1]])"
      ]
     },
     "execution_count": 33,
     "metadata": {
      "tags": []
     },
     "output_type": "execute_result"
    }
   ],
   "source": [
    "#56>21, 98>83, 42>24\n",
    "#64>35, 78>12, 98>67\n",
    "np.argmax(value_as_array, axis=0)"
   ]
  },
  {
   "cell_type": "code",
   "execution_count": null,
   "metadata": {
    "colab": {
     "base_uri": "https://localhost:8080/"
    },
    "id": "WloESoviMvWT",
    "outputId": "ae43e38d-1404-4d92-e317-5377d6513ccb"
   },
   "outputs": [
    {
     "data": {
      "text/plain": [
       "array([[1, 0, 1],\n",
       "       [1, 0, 1]])"
      ]
     },
     "execution_count": 34,
     "metadata": {
      "tags": []
     },
     "output_type": "execute_result"
    }
   ],
   "source": [
    "#35>21, 83>12, 67>42\n",
    "#64>56, 98>78, 98>24\n",
    "np.argmax(value_as_array, axis=1)"
   ]
  },
  {
   "cell_type": "code",
   "execution_count": null,
   "metadata": {
    "colab": {
     "base_uri": "https://localhost:8080/"
    },
    "id": "u2jjxTA7MwIK",
    "outputId": "8b97a961-d567-43dc-9094-2fccb4e55919"
   },
   "outputs": [
    {
     "data": {
      "text/plain": [
       "array([[1, 2],\n",
       "       [1, 2]])"
      ]
     },
     "execution_count": 35,
     "metadata": {
      "tags": []
     },
     "output_type": "execute_result"
    }
   ],
   "source": [
    "#83>42>21, 67>35>12\n",
    "#98>56>24, 98>78>64\n",
    "np.argmax(value_as_array, axis=2)"
   ]
  },
  {
   "cell_type": "code",
   "execution_count": null,
   "metadata": {
    "colab": {
     "base_uri": "https://localhost:8080/"
    },
    "id": "vAA_q7YwM3O-",
    "outputId": "ae18a123-1bc0-4c61-8464-c09b349a33d3"
   },
   "outputs": [
    {
     "data": {
      "text/plain": [
       "array([[1, 2],\n",
       "       [1, 2]])"
      ]
     },
     "execution_count": 36,
     "metadata": {
      "tags": []
     },
     "output_type": "execute_result"
    }
   ],
   "source": [
    "np.argmax(value_as_array, axis=-1) #-1: last_possible_axis"
   ]
  },
  {
   "cell_type": "markdown",
   "metadata": {
    "id": "bMYePjvVQGbd"
   },
   "source": [
    "## Indexación"
   ]
  },
  {
   "cell_type": "code",
   "execution_count": null,
   "metadata": {
    "id": "o28T3wlEQORU"
   },
   "outputs": [],
   "source": [
    "value = [ [[21, 83, 42],\n",
    "           [35, 12, 67]],\n",
    "          [[56, 98, 24],\n",
    "           [64, 78, 98]] ]\n",
    "value_as_array = np.array(value)"
   ]
  },
  {
   "cell_type": "code",
   "execution_count": null,
   "metadata": {
    "colab": {
     "base_uri": "https://localhost:8080/"
    },
    "id": "eKHFDA3cR5P4",
    "outputId": "ed11c482-7b43-4092-ce17-63c2d552c01f"
   },
   "outputs": [
    {
     "data": {
      "text/plain": [
       "array([[21, 83, 42],\n",
       "       [35, 12, 67]])"
      ]
     },
     "execution_count": 38,
     "metadata": {
      "tags": []
     },
     "output_type": "execute_result"
    }
   ],
   "source": [
    "value_as_array[0]"
   ]
  },
  {
   "cell_type": "code",
   "execution_count": null,
   "metadata": {
    "colab": {
     "base_uri": "https://localhost:8080/"
    },
    "id": "_2OPlvQ4R7LY",
    "outputId": "97278b17-01d4-46e3-8775-aaa317c994ff"
   },
   "outputs": [
    {
     "data": {
      "text/plain": [
       "array([[56, 98, 24],\n",
       "       [64, 78, 98]])"
      ]
     },
     "execution_count": 39,
     "metadata": {
      "tags": []
     },
     "output_type": "execute_result"
    }
   ],
   "source": [
    "value_as_array[1]"
   ]
  },
  {
   "cell_type": "code",
   "execution_count": null,
   "metadata": {
    "colab": {
     "base_uri": "https://localhost:8080/"
    },
    "id": "_XON6GyoSCkY",
    "outputId": "fca2d84a-5642-4426-8e41-2736f9a80a9b"
   },
   "outputs": [
    {
     "data": {
      "text/plain": [
       "array([[[21, 83, 42],\n",
       "        [35, 12, 67]]])"
      ]
     },
     "execution_count": 40,
     "metadata": {
      "tags": []
     },
     "output_type": "execute_result"
    }
   ],
   "source": [
    "value_as_array[0:1]"
   ]
  },
  {
   "cell_type": "code",
   "execution_count": null,
   "metadata": {
    "colab": {
     "base_uri": "https://localhost:8080/"
    },
    "id": "r3H5f6oOSIXw",
    "outputId": "83f14a1f-2529-4e12-f940-f3296a7d4800"
   },
   "outputs": [
    {
     "data": {
      "text/plain": [
       "array([[[56, 98, 24],\n",
       "        [64, 78, 98]]])"
      ]
     },
     "execution_count": 41,
     "metadata": {
      "tags": []
     },
     "output_type": "execute_result"
    }
   ],
   "source": [
    "value_as_array[1:2]"
   ]
  },
  {
   "cell_type": "code",
   "execution_count": null,
   "metadata": {
    "colab": {
     "base_uri": "https://localhost:8080/"
    },
    "id": "vcSB-5LHSM2_",
    "outputId": "aee7b8f4-c1a7-4532-be7f-d98b6498e4a9"
   },
   "outputs": [
    {
     "data": {
      "text/plain": [
       "array([21, 83, 42])"
      ]
     },
     "execution_count": 42,
     "metadata": {
      "tags": []
     },
     "output_type": "execute_result"
    }
   ],
   "source": [
    "value_as_array[0, 0]"
   ]
  },
  {
   "cell_type": "code",
   "execution_count": null,
   "metadata": {
    "colab": {
     "base_uri": "https://localhost:8080/"
    },
    "id": "bM8CnQyESc8i",
    "outputId": "86c3d6df-be98-49f1-8fa5-50096f8a6d3a"
   },
   "outputs": [
    {
     "data": {
      "text/plain": [
       "array([35, 12, 67])"
      ]
     },
     "execution_count": 43,
     "metadata": {
      "tags": []
     },
     "output_type": "execute_result"
    }
   ],
   "source": [
    "value_as_array[0, 1]"
   ]
  },
  {
   "cell_type": "code",
   "execution_count": null,
   "metadata": {
    "colab": {
     "base_uri": "https://localhost:8080/"
    },
    "id": "-F1jG9OXSema",
    "outputId": "625b826e-f99f-4ce1-8798-f5387fe1854d"
   },
   "outputs": [
    {
     "data": {
      "text/plain": [
       "array([[21, 83, 42],\n",
       "       [56, 98, 24]])"
      ]
     },
     "execution_count": 44,
     "metadata": {
      "tags": []
     },
     "output_type": "execute_result"
    }
   ],
   "source": [
    "value_as_array[:, 0]"
   ]
  },
  {
   "cell_type": "code",
   "execution_count": null,
   "metadata": {
    "colab": {
     "base_uri": "https://localhost:8080/"
    },
    "id": "UTxeRZfFSiUo",
    "outputId": "a11ce107-7e22-4a4c-e63e-beb96f4a914d"
   },
   "outputs": [
    {
     "data": {
      "text/plain": [
       "array([[35, 12, 67],\n",
       "       [64, 78, 98]])"
      ]
     },
     "execution_count": 45,
     "metadata": {
      "tags": []
     },
     "output_type": "execute_result"
    }
   ],
   "source": [
    "value_as_array[:, 1]"
   ]
  },
  {
   "cell_type": "code",
   "execution_count": null,
   "metadata": {
    "colab": {
     "base_uri": "https://localhost:8080/"
    },
    "id": "hHNT7C0GSmL3",
    "outputId": "5792553f-eead-429f-9aa4-6f260ac77bdb"
   },
   "outputs": [
    {
     "data": {
      "text/plain": [
       "21"
      ]
     },
     "execution_count": 46,
     "metadata": {
      "tags": []
     },
     "output_type": "execute_result"
    }
   ],
   "source": [
    "value_as_array[0, 0, 0]"
   ]
  },
  {
   "cell_type": "code",
   "execution_count": null,
   "metadata": {
    "colab": {
     "base_uri": "https://localhost:8080/"
    },
    "id": "dTwnLjTkSpke",
    "outputId": "d64fe882-baa1-4ac8-fea0-7a5dc05d8e45"
   },
   "outputs": [
    {
     "data": {
      "text/plain": [
       "83"
      ]
     },
     "execution_count": 47,
     "metadata": {
      "tags": []
     },
     "output_type": "execute_result"
    }
   ],
   "source": [
    "value_as_array[0, 0, 1]"
   ]
  },
  {
   "cell_type": "code",
   "execution_count": null,
   "metadata": {
    "colab": {
     "base_uri": "https://localhost:8080/"
    },
    "id": "sZKuKFdMSsTu",
    "outputId": "ed0b3117-5fae-4874-e16c-750e02f6c489"
   },
   "outputs": [
    {
     "data": {
      "text/plain": [
       "42"
      ]
     },
     "execution_count": 48,
     "metadata": {
      "tags": []
     },
     "output_type": "execute_result"
    }
   ],
   "source": [
    "value_as_array[0, 0, 2]"
   ]
  },
  {
   "cell_type": "code",
   "execution_count": null,
   "metadata": {
    "colab": {
     "base_uri": "https://localhost:8080/"
    },
    "id": "jdvlNnSuStzt",
    "outputId": "35c2a70b-8103-4bab-d24b-0e314e5b00ff"
   },
   "outputs": [
    {
     "data": {
      "text/plain": [
       "array([[21, 35],\n",
       "       [56, 64]])"
      ]
     },
     "execution_count": 49,
     "metadata": {
      "tags": []
     },
     "output_type": "execute_result"
    }
   ],
   "source": [
    "value_as_array[:, :, 0]"
   ]
  },
  {
   "cell_type": "code",
   "execution_count": null,
   "metadata": {
    "colab": {
     "base_uri": "https://localhost:8080/"
    },
    "id": "9tWIVS6LSwqz",
    "outputId": "2a2786fa-3738-4787-b083-da1408726264"
   },
   "outputs": [
    {
     "data": {
      "text/plain": [
       "array([[83, 12],\n",
       "       [98, 78]])"
      ]
     },
     "execution_count": 50,
     "metadata": {
      "tags": []
     },
     "output_type": "execute_result"
    }
   ],
   "source": [
    "value_as_array[:, :, 1]"
   ]
  },
  {
   "cell_type": "code",
   "execution_count": null,
   "metadata": {
    "colab": {
     "base_uri": "https://localhost:8080/"
    },
    "id": "wfTjhjkoS0zg",
    "outputId": "fd2d0fd5-ec51-498a-ece7-80e6cb5af1f2"
   },
   "outputs": [
    {
     "data": {
      "text/plain": [
       "array([[42, 67],\n",
       "       [24, 98]])"
      ]
     },
     "execution_count": 51,
     "metadata": {
      "tags": []
     },
     "output_type": "execute_result"
    }
   ],
   "source": [
    "value_as_array[:, :, 2]"
   ]
  },
  {
   "cell_type": "markdown",
   "metadata": {
    "id": "CPv7oY2nS7sC"
   },
   "source": [
    "## Manipulando *Shapes*"
   ]
  },
  {
   "cell_type": "code",
   "execution_count": null,
   "metadata": {
    "colab": {
     "base_uri": "https://localhost:8080/"
    },
    "id": "ZMeCOTvGS7sJ",
    "outputId": "188d141d-ec40-4153-e766-5b69a4e11356"
   },
   "outputs": [
    {
     "data": {
      "text/plain": [
       "(2, 2, 3)"
      ]
     },
     "execution_count": 52,
     "metadata": {
      "tags": []
     },
     "output_type": "execute_result"
    }
   ],
   "source": [
    "value = [ [[21, 83, 42],\n",
    "           [35, 12, 67]],\n",
    "          [[56, 98, 24],\n",
    "           [64, 78, 98]] ]\n",
    "value_as_array = np.array(value)\n",
    "\n",
    "value_as_array.shape"
   ]
  },
  {
   "cell_type": "code",
   "execution_count": null,
   "metadata": {
    "colab": {
     "base_uri": "https://localhost:8080/"
    },
    "id": "NKtYFY9nTb8u",
    "outputId": "a802f155-0f5b-4daa-e22e-3d6947b213ab"
   },
   "outputs": [
    {
     "data": {
      "text/plain": [
       "array([21, 83, 42, 35, 12, 67, 56, 98, 24, 64, 78, 98])"
      ]
     },
     "execution_count": 53,
     "metadata": {
      "tags": []
     },
     "output_type": "execute_result"
    }
   ],
   "source": [
    "np.reshape(value_as_array, (12,))"
   ]
  },
  {
   "cell_type": "code",
   "execution_count": null,
   "metadata": {
    "colab": {
     "base_uri": "https://localhost:8080/"
    },
    "id": "qMiNuqQbTLKG",
    "outputId": "d0952b2a-9b06-4269-8e06-751d7b91b159"
   },
   "outputs": [
    {
     "data": {
      "text/plain": [
       "array([[21, 83, 42, 35, 12, 67],\n",
       "       [56, 98, 24, 64, 78, 98]])"
      ]
     },
     "execution_count": 54,
     "metadata": {
      "tags": []
     },
     "output_type": "execute_result"
    }
   ],
   "source": [
    "np.reshape(value_as_array, (2, 6))"
   ]
  },
  {
   "cell_type": "code",
   "execution_count": null,
   "metadata": {
    "colab": {
     "base_uri": "https://localhost:8080/"
    },
    "id": "R287-_42TCzJ",
    "outputId": "b96f072e-c3fb-4da0-e48b-918eb7553891"
   },
   "outputs": [
    {
     "data": {
      "text/plain": [
       "array([[21, 83, 42],\n",
       "       [35, 12, 67],\n",
       "       [56, 98, 24],\n",
       "       [64, 78, 98]])"
      ]
     },
     "execution_count": 55,
     "metadata": {
      "tags": []
     },
     "output_type": "execute_result"
    }
   ],
   "source": [
    "np.reshape(value_as_array, (4, 3))"
   ]
  },
  {
   "cell_type": "code",
   "execution_count": null,
   "metadata": {
    "colab": {
     "base_uri": "https://localhost:8080/"
    },
    "id": "ld5wWtxFTTeQ",
    "outputId": "2d40aa6a-effb-424d-a1e5-ddb8325d0f6b"
   },
   "outputs": [
    {
     "data": {
      "text/plain": [
       "array([[21, 83, 42, 35],\n",
       "       [12, 67, 56, 98],\n",
       "       [24, 64, 78, 98]])"
      ]
     },
     "execution_count": 56,
     "metadata": {
      "tags": []
     },
     "output_type": "execute_result"
    }
   ],
   "source": [
    "np.reshape(value_as_array, (3, 4))"
   ]
  },
  {
   "cell_type": "code",
   "execution_count": null,
   "metadata": {
    "colab": {
     "base_uri": "https://localhost:8080/"
    },
    "id": "_Zkfqa5wTeim",
    "outputId": "06e6d957-c85f-46b1-c422-595ee2774941"
   },
   "outputs": [
    {
     "data": {
      "text/plain": [
       "array([21, 83, 42, 35, 12, 67, 56, 98, 24, 64, 78, 98])"
      ]
     },
     "execution_count": 57,
     "metadata": {
      "tags": []
     },
     "output_type": "execute_result"
    }
   ],
   "source": [
    "np.reshape(value_as_array, (-1,))"
   ]
  },
  {
   "cell_type": "code",
   "execution_count": null,
   "metadata": {
    "colab": {
     "base_uri": "https://localhost:8080/"
    },
    "id": "9iuWv0dpTXVT",
    "outputId": "0fc203c0-adfa-49fa-8d9a-4757c0fa4af1"
   },
   "outputs": [
    {
     "data": {
      "text/plain": [
       "array([[21, 83, 42, 35],\n",
       "       [12, 67, 56, 98],\n",
       "       [24, 64, 78, 98]])"
      ]
     },
     "execution_count": 58,
     "metadata": {
      "tags": []
     },
     "output_type": "execute_result"
    }
   ],
   "source": [
    "np.reshape(value_as_array, (3, -1))"
   ]
  },
  {
   "cell_type": "markdown",
   "metadata": {
    "id": "9VWVubrmKULy"
   },
   "source": [
    "## Convertir Arreglos a Listas"
   ]
  },
  {
   "cell_type": "code",
   "execution_count": null,
   "metadata": {
    "id": "LGaPGzcpKYhi"
   },
   "outputs": [],
   "source": [
    "value = [21, 83, 42, 35]\n",
    "value_as_array = np.array(value)"
   ]
  },
  {
   "cell_type": "code",
   "execution_count": null,
   "metadata": {
    "colab": {
     "base_uri": "https://localhost:8080/"
    },
    "id": "q3PyrEHkT34d",
    "outputId": "98651c69-3d1c-4ba1-bc2b-d803346b39e2"
   },
   "outputs": [
    {
     "data": {
      "text/plain": [
       "[21, 83, 42, 35]"
      ]
     },
     "execution_count": 60,
     "metadata": {
      "tags": []
     },
     "output_type": "execute_result"
    }
   ],
   "source": [
    "value_as_array.tolist()"
   ]
  },
  {
   "cell_type": "code",
   "execution_count": null,
   "metadata": {
    "colab": {
     "base_uri": "https://localhost:8080/"
    },
    "id": "jJPD1_jvT4Zt",
    "outputId": "a6021caf-3bf8-4878-dbd0-fab95be0dd09"
   },
   "outputs": [
    {
     "data": {
      "text/plain": [
       "[21, 83, 42, 35]"
      ]
     },
     "execution_count": 61,
     "metadata": {
      "tags": []
     },
     "output_type": "execute_result"
    }
   ],
   "source": [
    "list(value_as_array)"
   ]
  },
  {
   "cell_type": "markdown",
   "metadata": {
    "id": "IuPAmSGFXKma"
   },
   "source": [
    "# TensorFlow"
   ]
  },
  {
   "cell_type": "code",
   "execution_count": null,
   "metadata": {
    "id": "-CWxU_j7XKmd"
   },
   "outputs": [],
   "source": [
    "import tensorflow as tf\n",
    "import numpy as np"
   ]
  },
  {
   "cell_type": "markdown",
   "metadata": {
    "id": "QtjlkUYDXKmd"
   },
   "source": [
    "## Crear Tensores de diferentes dimensiones"
   ]
  },
  {
   "cell_type": "code",
   "execution_count": null,
   "metadata": {
    "colab": {
     "base_uri": "https://localhost:8080/"
    },
    "id": "chXF67w7XKmd",
    "outputId": "60a73f33-ffc4-4b34-ed2c-62e37c680bbe"
   },
   "outputs": [
    {
     "data": {
      "text/plain": [
       "<tf.Tensor: shape=(), dtype=int32, numpy=10>"
      ]
     },
     "execution_count": 63,
     "metadata": {
      "tags": []
     },
     "output_type": "execute_result"
    }
   ],
   "source": [
    "value = 10 #rank 0\n",
    "value_as_tensor = tf.convert_to_tensor(value)\n",
    "\n",
    "value_as_tensor"
   ]
  },
  {
   "cell_type": "code",
   "execution_count": null,
   "metadata": {
    "colab": {
     "base_uri": "https://localhost:8080/"
    },
    "id": "NoJkXhtAXKme",
    "outputId": "0e4b8fe2-7701-4442-92a5-4fa6ab96f0bc"
   },
   "outputs": [
    {
     "data": {
      "text/plain": [
       "<tf.Tensor: shape=(4,), dtype=int32, numpy=array([21, 83, 42, 35], dtype=int32)>"
      ]
     },
     "execution_count": 64,
     "metadata": {
      "tags": []
     },
     "output_type": "execute_result"
    }
   ],
   "source": [
    "value = [21, 83, 42, 35] #rank 1\n",
    "value_as_tensor = tf.convert_to_tensor(value)\n",
    "\n",
    "value_as_tensor"
   ]
  },
  {
   "cell_type": "code",
   "execution_count": null,
   "metadata": {
    "colab": {
     "base_uri": "https://localhost:8080/"
    },
    "id": "CftQotIaXKme",
    "outputId": "75e887ad-2d0d-4d69-cd51-d1d7a802b800"
   },
   "outputs": [
    {
     "data": {
      "text/plain": [
       "<tf.Tensor: shape=(2, 3), dtype=int32, numpy=\n",
       "array([[21, 83, 42],\n",
       "       [35, 12, 67]], dtype=int32)>"
      ]
     },
     "execution_count": 65,
     "metadata": {
      "tags": []
     },
     "output_type": "execute_result"
    }
   ],
   "source": [
    "value = [[21, 83, 42],\n",
    "         [35, 12, 67]] #rank 2\n",
    "value_as_tensor = tf.convert_to_tensor(value)\n",
    "\n",
    "value_as_tensor"
   ]
  },
  {
   "cell_type": "code",
   "execution_count": null,
   "metadata": {
    "colab": {
     "base_uri": "https://localhost:8080/"
    },
    "id": "dYj1Cd_TXKme",
    "outputId": "ac4c7a00-5188-462b-a881-ff2902399bbd"
   },
   "outputs": [
    {
     "data": {
      "text/plain": [
       "<tf.Tensor: shape=(2, 2, 3), dtype=int32, numpy=\n",
       "array([[[21, 83, 42],\n",
       "        [35, 12, 67]],\n",
       "\n",
       "       [[56, 98, 24],\n",
       "        [64, 78, 98]]], dtype=int32)>"
      ]
     },
     "execution_count": 66,
     "metadata": {
      "tags": []
     },
     "output_type": "execute_result"
    }
   ],
   "source": [
    "value = [ [[21, 83, 42],\n",
    "           [35, 12, 67]],\n",
    "          [[56, 98, 24],\n",
    "           [64, 78, 98]] ] #rank 3\n",
    "value_as_tensor = tf.convert_to_tensor(value)\n",
    "\n",
    "value_as_tensor"
   ]
  },
  {
   "cell_type": "markdown",
   "metadata": {
    "id": "EERhW8nwXKmf"
   },
   "source": [
    "## Atributos de los tensores"
   ]
  },
  {
   "cell_type": "code",
   "execution_count": null,
   "metadata": {
    "id": "3io4eBLnXKmf"
   },
   "outputs": [],
   "source": [
    "value = [[21, 83, 42],\n",
    "         [35, 12, 67]]\n",
    "value_as_tensor = tf.convert_to_tensor(value)"
   ]
  },
  {
   "cell_type": "code",
   "execution_count": null,
   "metadata": {
    "colab": {
     "base_uri": "https://localhost:8080/"
    },
    "id": "wAJWVTZZXKmf",
    "outputId": "44bf5cd5-8001-4115-a076-09eef9ff2122"
   },
   "outputs": [
    {
     "data": {
      "text/plain": [
       "2"
      ]
     },
     "execution_count": 68,
     "metadata": {
      "tags": []
     },
     "output_type": "execute_result"
    }
   ],
   "source": [
    "#Number of axes\n",
    "value_as_tensor.ndim"
   ]
  },
  {
   "cell_type": "code",
   "execution_count": null,
   "metadata": {
    "colab": {
     "base_uri": "https://localhost:8080/"
    },
    "id": "wDx0DjW_XKmf",
    "outputId": "3049007f-57c7-458a-a5a2-4a7075b69560"
   },
   "outputs": [
    {
     "data": {
      "text/plain": [
       "TensorShape([2, 3])"
      ]
     },
     "execution_count": 69,
     "metadata": {
      "tags": []
     },
     "output_type": "execute_result"
    }
   ],
   "source": [
    "#Length (number of elements) of each of the axes of a Tensor\n",
    "value_as_tensor.shape"
   ]
  },
  {
   "cell_type": "code",
   "execution_count": null,
   "metadata": {
    "colab": {
     "base_uri": "https://localhost:8080/"
    },
    "id": "EhJaJ9ahXKmf",
    "outputId": "b674c547-b39e-4953-920a-ba2ed9cd8d62"
   },
   "outputs": [
    {
     "data": {
      "text/plain": [
       "tf.int32"
      ]
     },
     "execution_count": 70,
     "metadata": {
      "tags": []
     },
     "output_type": "execute_result"
    }
   ],
   "source": [
    "#Type of every element in the Tensor\n",
    "value_as_tensor.dtype"
   ]
  },
  {
   "cell_type": "markdown",
   "metadata": {
    "id": "Byr_cPZdXKmg"
   },
   "source": [
    "## Operaciones con Tensores"
   ]
  },
  {
   "cell_type": "code",
   "execution_count": null,
   "metadata": {
    "id": "HQAVBGQcXKmg"
   },
   "outputs": [],
   "source": [
    "value_1 = [[21, 83],\n",
    "           [42, 35]]\n",
    "value_2 = [[95, 78],\n",
    "           [65, 32]]\n",
    "\n",
    "tensor_1 = tf.convert_to_tensor(value_1)\n",
    "tensor_2 = tf.convert_to_tensor(value_2)"
   ]
  },
  {
   "cell_type": "markdown",
   "metadata": {
    "id": "mtd1z0p7XKmg"
   },
   "source": [
    "### Suma"
   ]
  },
  {
   "cell_type": "code",
   "execution_count": null,
   "metadata": {
    "colab": {
     "base_uri": "https://localhost:8080/"
    },
    "id": "3BBdsx7nXKmg",
    "outputId": "3d44f544-7633-4cf0-af0e-5e86fe5616f3"
   },
   "outputs": [
    {
     "data": {
      "text/plain": [
       "<tf.Tensor: shape=(2, 2), dtype=int32, numpy=\n",
       "array([[116, 161],\n",
       "       [107,  67]], dtype=int32)>"
      ]
     },
     "execution_count": 72,
     "metadata": {
      "tags": []
     },
     "output_type": "execute_result"
    }
   ],
   "source": [
    "tf.add(tensor_1, tensor_2)"
   ]
  },
  {
   "cell_type": "code",
   "execution_count": null,
   "metadata": {
    "colab": {
     "base_uri": "https://localhost:8080/"
    },
    "id": "LPvl4ItkXKmg",
    "outputId": "d6343200-2f82-4c51-9be6-c3356105f769"
   },
   "outputs": [
    {
     "data": {
      "text/plain": [
       "<tf.Tensor: shape=(2, 2), dtype=int32, numpy=\n",
       "array([[116, 161],\n",
       "       [107,  67]], dtype=int32)>"
      ]
     },
     "execution_count": 73,
     "metadata": {
      "tags": []
     },
     "output_type": "execute_result"
    }
   ],
   "source": [
    "tensor_1 + tensor_2"
   ]
  },
  {
   "cell_type": "markdown",
   "metadata": {
    "id": "HZayd3okXKmg"
   },
   "source": [
    "### Resta"
   ]
  },
  {
   "cell_type": "code",
   "execution_count": null,
   "metadata": {
    "colab": {
     "base_uri": "https://localhost:8080/"
    },
    "id": "AMrSW3K_XKmh",
    "outputId": "2bfdb01d-830d-486b-ee69-57101e48d0d6"
   },
   "outputs": [
    {
     "data": {
      "text/plain": [
       "<tf.Tensor: shape=(2, 2), dtype=int32, numpy=\n",
       "array([[-74,   5],\n",
       "       [-23,   3]], dtype=int32)>"
      ]
     },
     "execution_count": 74,
     "metadata": {
      "tags": []
     },
     "output_type": "execute_result"
    }
   ],
   "source": [
    "tf.subtract(tensor_1, tensor_2)"
   ]
  },
  {
   "cell_type": "code",
   "execution_count": null,
   "metadata": {
    "colab": {
     "base_uri": "https://localhost:8080/"
    },
    "id": "wWqgXm7aXKmh",
    "outputId": "6a922b54-3164-404c-87be-b7a71d951b00"
   },
   "outputs": [
    {
     "data": {
      "text/plain": [
       "<tf.Tensor: shape=(2, 2), dtype=int32, numpy=\n",
       "array([[-74,   5],\n",
       "       [-23,   3]], dtype=int32)>"
      ]
     },
     "execution_count": 75,
     "metadata": {
      "tags": []
     },
     "output_type": "execute_result"
    }
   ],
   "source": [
    "tensor_1 - tensor_2"
   ]
  },
  {
   "cell_type": "markdown",
   "metadata": {
    "id": "-Mc6MBEQXKmh"
   },
   "source": [
    "### Multiplicación de elementos"
   ]
  },
  {
   "cell_type": "code",
   "execution_count": null,
   "metadata": {
    "colab": {
     "base_uri": "https://localhost:8080/"
    },
    "id": "VS-hB1aQXKmh",
    "outputId": "2e031f27-a1f4-45ff-bb65-dae247e45e76"
   },
   "outputs": [
    {
     "data": {
      "text/plain": [
       "<tf.Tensor: shape=(2, 2), dtype=int32, numpy=\n",
       "array([[1995, 6474],\n",
       "       [2730, 1120]], dtype=int32)>"
      ]
     },
     "execution_count": 76,
     "metadata": {
      "tags": []
     },
     "output_type": "execute_result"
    }
   ],
   "source": [
    "tf.multiply(tensor_1, tensor_2)"
   ]
  },
  {
   "cell_type": "code",
   "execution_count": null,
   "metadata": {
    "colab": {
     "base_uri": "https://localhost:8080/"
    },
    "id": "gin7GSH_XKmh",
    "outputId": "0b3592b1-f6ed-4aa9-9cb3-669cc83bddef"
   },
   "outputs": [
    {
     "data": {
      "text/plain": [
       "<tf.Tensor: shape=(2, 2), dtype=int32, numpy=\n",
       "array([[1995, 6474],\n",
       "       [2730, 1120]], dtype=int32)>"
      ]
     },
     "execution_count": 77,
     "metadata": {
      "tags": []
     },
     "output_type": "execute_result"
    }
   ],
   "source": [
    "tensor_1 * tensor_2"
   ]
  },
  {
   "cell_type": "markdown",
   "metadata": {
    "id": "Y9OS97K9XKmi"
   },
   "source": [
    "### Multiplicación de matrices"
   ]
  },
  {
   "cell_type": "code",
   "execution_count": null,
   "metadata": {
    "colab": {
     "base_uri": "https://localhost:8080/"
    },
    "id": "8wbD5OGZXKmi",
    "outputId": "b786323b-1aec-411a-f095-d857d89eb957"
   },
   "outputs": [
    {
     "data": {
      "text/plain": [
       "<tf.Tensor: shape=(2, 2), dtype=int32, numpy=\n",
       "array([[7390, 4294],\n",
       "       [6265, 4396]], dtype=int32)>"
      ]
     },
     "execution_count": 78,
     "metadata": {
      "tags": []
     },
     "output_type": "execute_result"
    }
   ],
   "source": [
    "tf.matmul(tensor_1, tensor_2)"
   ]
  },
  {
   "cell_type": "code",
   "execution_count": null,
   "metadata": {
    "colab": {
     "base_uri": "https://localhost:8080/"
    },
    "id": "N9zvD9tnXKmi",
    "outputId": "96a21d16-fa4b-45d4-d3ff-6c6bba4b8427"
   },
   "outputs": [
    {
     "data": {
      "text/plain": [
       "<tf.Tensor: shape=(2, 2), dtype=int32, numpy=\n",
       "array([[7390, 4294],\n",
       "       [6265, 4396]], dtype=int32)>"
      ]
     },
     "execution_count": 79,
     "metadata": {
      "tags": []
     },
     "output_type": "execute_result"
    }
   ],
   "source": [
    "tensor_1 @ tensor_2"
   ]
  },
  {
   "cell_type": "markdown",
   "metadata": {
    "id": "J0l0rYKxeEWY"
   },
   "source": [
    "## Obtener la transpuesta"
   ]
  },
  {
   "cell_type": "code",
   "execution_count": null,
   "metadata": {
    "id": "uzixp5OGeEWf"
   },
   "outputs": [],
   "source": [
    "value = [ [[21, 83, 42],\n",
    "           [35, 12, 67]],\n",
    "          [[56, 98, 24],\n",
    "           [64, 78, 98]] ]\n",
    "value_as_tensor = tf.convert_to_tensor(value)"
   ]
  },
  {
   "cell_type": "code",
   "execution_count": null,
   "metadata": {
    "colab": {
     "base_uri": "https://localhost:8080/"
    },
    "id": "St4UEoDbeEWf",
    "outputId": "8d47c401-5624-49e7-9994-7b54c765e8cc"
   },
   "outputs": [
    {
     "data": {
      "text/plain": [
       "<tf.Tensor: shape=(3, 2, 2), dtype=int32, numpy=\n",
       "array([[[21, 56],\n",
       "        [35, 64]],\n",
       "\n",
       "       [[83, 98],\n",
       "        [12, 78]],\n",
       "\n",
       "       [[42, 24],\n",
       "        [67, 98]]], dtype=int32)>"
      ]
     },
     "execution_count": 81,
     "metadata": {
      "tags": []
     },
     "output_type": "execute_result"
    }
   ],
   "source": [
    "tf.transpose(value_as_tensor)"
   ]
  },
  {
   "cell_type": "markdown",
   "metadata": {
    "id": "UMV5nS_DeVau"
   },
   "source": [
    "## Obtener la inversa"
   ]
  },
  {
   "cell_type": "code",
   "execution_count": null,
   "metadata": {
    "id": "Vy4NSF_9eVau"
   },
   "outputs": [],
   "source": [
    "value = [[21, 83],\n",
    "         [35, 12]]\n",
    "value_as_tensor = tf.convert_to_tensor(value, dtype=tf.float32)"
   ]
  },
  {
   "cell_type": "code",
   "execution_count": null,
   "metadata": {
    "colab": {
     "base_uri": "https://localhost:8080/"
    },
    "id": "_V_HL1WafbrB",
    "outputId": "87125082-b5f4-4ffe-8fb7-a81bc8e56bef"
   },
   "outputs": [
    {
     "data": {
      "text/plain": [
       "<tf.Tensor: shape=(2, 2), dtype=float32, numpy=\n",
       "array([[-0.00452318,  0.03128534],\n",
       "       [ 0.01319261, -0.00791557]], dtype=float32)>"
      ]
     },
     "execution_count": 83,
     "metadata": {
      "tags": []
     },
     "output_type": "execute_result"
    }
   ],
   "source": [
    "tf.linalg.inv(value_as_tensor)"
   ]
  },
  {
   "cell_type": "markdown",
   "metadata": {
    "id": "2yxz4WopXKmi"
   },
   "source": [
    "## Obtener la cantidad de elementos"
   ]
  },
  {
   "cell_type": "code",
   "execution_count": null,
   "metadata": {
    "colab": {
     "base_uri": "https://localhost:8080/"
    },
    "id": "ZJEILAmkXKmi",
    "outputId": "da45bd25-6d77-47f9-ba81-b344b8ae2389"
   },
   "outputs": [
    {
     "data": {
      "text/plain": [
       "<tf.Tensor: shape=(), dtype=int32, numpy=12>"
      ]
     },
     "execution_count": 84,
     "metadata": {
      "tags": []
     },
     "output_type": "execute_result"
    }
   ],
   "source": [
    "value = [ [[21, 83, 42],\n",
    "           [35, 12, 67]],\n",
    "          [[56, 98, 24],\n",
    "           [64, 78, 98]] ]\n",
    "value_as_tensor = tf.convert_to_tensor(value)\n",
    "\n",
    "tf.size(value_as_tensor)"
   ]
  },
  {
   "cell_type": "markdown",
   "metadata": {
    "id": "7C2F0WjgXKmi"
   },
   "source": [
    "## Obtener el mayor elemento"
   ]
  },
  {
   "cell_type": "code",
   "execution_count": null,
   "metadata": {
    "id": "5CluyKJDXKmi"
   },
   "outputs": [],
   "source": [
    "value = [ [[21, 83, 42],\n",
    "           [35, 12, 67]],\n",
    "          [[56, 98, 24],\n",
    "           [64, 78, 98]] ]\n",
    "value_as_tensor = tf.convert_to_tensor(value)"
   ]
  },
  {
   "cell_type": "code",
   "execution_count": null,
   "metadata": {
    "colab": {
     "base_uri": "https://localhost:8080/"
    },
    "id": "Q4t4UZnCXKmi",
    "outputId": "4f328417-8fb0-4907-8913-df6c79b1f3e2"
   },
   "outputs": [
    {
     "data": {
      "text/plain": [
       "<tf.Tensor: shape=(2, 3), dtype=int32, numpy=\n",
       "array([[56, 98, 42],\n",
       "       [64, 78, 98]], dtype=int32)>"
      ]
     },
     "execution_count": 86,
     "metadata": {
      "tags": []
     },
     "output_type": "execute_result"
    }
   ],
   "source": [
    "tf.reduce_max(value_as_tensor, axis=0)"
   ]
  },
  {
   "cell_type": "code",
   "execution_count": null,
   "metadata": {
    "colab": {
     "base_uri": "https://localhost:8080/"
    },
    "id": "aeDRjbgqXKmj",
    "outputId": "3c2c7173-685d-4e12-e8b2-fc42bc164e5f"
   },
   "outputs": [
    {
     "data": {
      "text/plain": [
       "<tf.Tensor: shape=(2, 3), dtype=int32, numpy=\n",
       "array([[35, 83, 67],\n",
       "       [64, 98, 98]], dtype=int32)>"
      ]
     },
     "execution_count": 87,
     "metadata": {
      "tags": []
     },
     "output_type": "execute_result"
    }
   ],
   "source": [
    "tf.reduce_max(value_as_tensor, axis=1)"
   ]
  },
  {
   "cell_type": "code",
   "execution_count": null,
   "metadata": {
    "colab": {
     "base_uri": "https://localhost:8080/"
    },
    "id": "m0xIqCkFXKmj",
    "outputId": "a0d6c9e2-7f75-4c37-cf90-7f2dde8a5a25"
   },
   "outputs": [
    {
     "data": {
      "text/plain": [
       "<tf.Tensor: shape=(2, 2), dtype=int32, numpy=\n",
       "array([[83, 67],\n",
       "       [98, 98]], dtype=int32)>"
      ]
     },
     "execution_count": 88,
     "metadata": {
      "tags": []
     },
     "output_type": "execute_result"
    }
   ],
   "source": [
    "tf.reduce_max(value_as_tensor, axis=2)"
   ]
  },
  {
   "cell_type": "code",
   "execution_count": null,
   "metadata": {
    "colab": {
     "base_uri": "https://localhost:8080/"
    },
    "id": "nywK9eKWXKmj",
    "outputId": "f9608dbb-1f7d-4dde-fbdd-74370286dc21"
   },
   "outputs": [
    {
     "data": {
      "text/plain": [
       "<tf.Tensor: shape=(2, 2), dtype=int32, numpy=\n",
       "array([[83, 67],\n",
       "       [98, 98]], dtype=int32)>"
      ]
     },
     "execution_count": 89,
     "metadata": {
      "tags": []
     },
     "output_type": "execute_result"
    }
   ],
   "source": [
    "tf.reduce_max(value_as_tensor, axis=-1) #-1: last_possible_axis"
   ]
  },
  {
   "cell_type": "markdown",
   "metadata": {
    "id": "ROg3DnOkXKmj"
   },
   "source": [
    "## Obtener el índice del mayor elemento"
   ]
  },
  {
   "cell_type": "code",
   "execution_count": null,
   "metadata": {
    "id": "QA2rpNfAXKmj"
   },
   "outputs": [],
   "source": [
    "value = [ [[21, 83, 42],\n",
    "           [35, 12, 67]],\n",
    "          [[56, 98, 24],\n",
    "           [64, 78, 98]] ]\n",
    "value_as_tensor = tf.convert_to_tensor(value)"
   ]
  },
  {
   "cell_type": "code",
   "execution_count": null,
   "metadata": {
    "colab": {
     "base_uri": "https://localhost:8080/"
    },
    "id": "TEQg9gRoXKmj",
    "outputId": "af233db5-e706-47c6-e788-d9ac0732fe10"
   },
   "outputs": [
    {
     "data": {
      "text/plain": [
       "<tf.Tensor: shape=(2, 3), dtype=int64, numpy=\n",
       "array([[1, 1, 0],\n",
       "       [1, 1, 1]])>"
      ]
     },
     "execution_count": 91,
     "metadata": {
      "tags": []
     },
     "output_type": "execute_result"
    }
   ],
   "source": [
    "#56>21, 98>83, 42>24\n",
    "#64>35, 78>12, 98>67\n",
    "tf.argmax(value_as_tensor, axis=0)"
   ]
  },
  {
   "cell_type": "code",
   "execution_count": null,
   "metadata": {
    "colab": {
     "base_uri": "https://localhost:8080/"
    },
    "id": "ETKtFqCiXKmj",
    "outputId": "7979f021-1108-4dbe-a12c-f8b395114e6b"
   },
   "outputs": [
    {
     "data": {
      "text/plain": [
       "<tf.Tensor: shape=(2, 3), dtype=int64, numpy=\n",
       "array([[1, 0, 1],\n",
       "       [1, 0, 1]])>"
      ]
     },
     "execution_count": 92,
     "metadata": {
      "tags": []
     },
     "output_type": "execute_result"
    }
   ],
   "source": [
    "#35>21, 83>12, 67>42\n",
    "#64>56, 98>78, 98>24\n",
    "tf.argmax(value_as_tensor, axis=1)"
   ]
  },
  {
   "cell_type": "code",
   "execution_count": null,
   "metadata": {
    "colab": {
     "base_uri": "https://localhost:8080/"
    },
    "id": "eUTkSwkDXKmk",
    "outputId": "de8b731b-b232-4830-f94d-1e7e6f97e625"
   },
   "outputs": [
    {
     "data": {
      "text/plain": [
       "<tf.Tensor: shape=(2, 2), dtype=int64, numpy=\n",
       "array([[1, 2],\n",
       "       [1, 2]])>"
      ]
     },
     "execution_count": 93,
     "metadata": {
      "tags": []
     },
     "output_type": "execute_result"
    }
   ],
   "source": [
    "#83>42>21, 67>35>12\n",
    "#98>56>24, 98>78>64\n",
    "tf.argmax(value_as_tensor, axis=2)"
   ]
  },
  {
   "cell_type": "code",
   "execution_count": null,
   "metadata": {
    "colab": {
     "base_uri": "https://localhost:8080/"
    },
    "id": "lgBNa4b1XKmk",
    "outputId": "ed9cf01e-169b-4e7a-840e-f404dea32a0f"
   },
   "outputs": [
    {
     "data": {
      "text/plain": [
       "<tf.Tensor: shape=(2, 2), dtype=int64, numpy=\n",
       "array([[1, 2],\n",
       "       [1, 2]])>"
      ]
     },
     "execution_count": 94,
     "metadata": {
      "tags": []
     },
     "output_type": "execute_result"
    }
   ],
   "source": [
    "tf.argmax(value_as_tensor, axis=-1) #-1: last_possible_axis"
   ]
  },
  {
   "cell_type": "markdown",
   "metadata": {
    "id": "8-9zXNkXXKmk"
   },
   "source": [
    "## Indexación"
   ]
  },
  {
   "cell_type": "code",
   "execution_count": null,
   "metadata": {
    "id": "SziHOIr9XKmk"
   },
   "outputs": [],
   "source": [
    "value = [ [[21, 83, 42],\n",
    "           [35, 12, 67]],\n",
    "          [[56, 98, 24],\n",
    "           [64, 78, 98]] ]\n",
    "value_as_tensor = tf.convert_to_tensor(value)"
   ]
  },
  {
   "cell_type": "code",
   "execution_count": null,
   "metadata": {
    "colab": {
     "base_uri": "https://localhost:8080/"
    },
    "id": "I7w4vF9ZXKmk",
    "outputId": "4657b465-ed3c-4f05-f7b5-1018d72ca124"
   },
   "outputs": [
    {
     "data": {
      "text/plain": [
       "<tf.Tensor: shape=(2, 3), dtype=int32, numpy=\n",
       "array([[21, 83, 42],\n",
       "       [35, 12, 67]], dtype=int32)>"
      ]
     },
     "execution_count": 96,
     "metadata": {
      "tags": []
     },
     "output_type": "execute_result"
    }
   ],
   "source": [
    "value_as_tensor[0]"
   ]
  },
  {
   "cell_type": "code",
   "execution_count": null,
   "metadata": {
    "colab": {
     "base_uri": "https://localhost:8080/"
    },
    "id": "dmQjUUyKXKmk",
    "outputId": "dc9c955c-12cd-4e5a-c54a-22c07b75b14e"
   },
   "outputs": [
    {
     "data": {
      "text/plain": [
       "<tf.Tensor: shape=(2, 3), dtype=int32, numpy=\n",
       "array([[56, 98, 24],\n",
       "       [64, 78, 98]], dtype=int32)>"
      ]
     },
     "execution_count": 97,
     "metadata": {
      "tags": []
     },
     "output_type": "execute_result"
    }
   ],
   "source": [
    "value_as_tensor[1]"
   ]
  },
  {
   "cell_type": "code",
   "execution_count": null,
   "metadata": {
    "colab": {
     "base_uri": "https://localhost:8080/"
    },
    "id": "oSCS5RM2XKml",
    "outputId": "a9340460-01e3-4297-e823-c4ea3aa2c37e"
   },
   "outputs": [
    {
     "data": {
      "text/plain": [
       "<tf.Tensor: shape=(1, 2, 3), dtype=int32, numpy=\n",
       "array([[[21, 83, 42],\n",
       "        [35, 12, 67]]], dtype=int32)>"
      ]
     },
     "execution_count": 98,
     "metadata": {
      "tags": []
     },
     "output_type": "execute_result"
    }
   ],
   "source": [
    "value_as_tensor[0:1]"
   ]
  },
  {
   "cell_type": "code",
   "execution_count": null,
   "metadata": {
    "colab": {
     "base_uri": "https://localhost:8080/"
    },
    "id": "o_onpzmIXKml",
    "outputId": "9a758eeb-864e-4265-e1b4-a2038f643769"
   },
   "outputs": [
    {
     "data": {
      "text/plain": [
       "<tf.Tensor: shape=(1, 2, 3), dtype=int32, numpy=\n",
       "array([[[56, 98, 24],\n",
       "        [64, 78, 98]]], dtype=int32)>"
      ]
     },
     "execution_count": 99,
     "metadata": {
      "tags": []
     },
     "output_type": "execute_result"
    }
   ],
   "source": [
    "value_as_tensor[1:2]"
   ]
  },
  {
   "cell_type": "code",
   "execution_count": null,
   "metadata": {
    "colab": {
     "base_uri": "https://localhost:8080/"
    },
    "id": "YBxrxfsWXKml",
    "outputId": "a8fdf814-51b9-4039-cd4e-4665515ac12a"
   },
   "outputs": [
    {
     "data": {
      "text/plain": [
       "<tf.Tensor: shape=(3,), dtype=int32, numpy=array([21, 83, 42], dtype=int32)>"
      ]
     },
     "execution_count": 100,
     "metadata": {
      "tags": []
     },
     "output_type": "execute_result"
    }
   ],
   "source": [
    "value_as_tensor[0, 0]"
   ]
  },
  {
   "cell_type": "code",
   "execution_count": null,
   "metadata": {
    "colab": {
     "base_uri": "https://localhost:8080/"
    },
    "id": "GnTYRd4uXKml",
    "outputId": "3a2fa72c-0b95-457f-e080-1d7db4defd94"
   },
   "outputs": [
    {
     "data": {
      "text/plain": [
       "<tf.Tensor: shape=(3,), dtype=int32, numpy=array([35, 12, 67], dtype=int32)>"
      ]
     },
     "execution_count": 101,
     "metadata": {
      "tags": []
     },
     "output_type": "execute_result"
    }
   ],
   "source": [
    "value_as_tensor[0, 1]"
   ]
  },
  {
   "cell_type": "code",
   "execution_count": null,
   "metadata": {
    "colab": {
     "base_uri": "https://localhost:8080/"
    },
    "id": "MsY_xwMJXKml",
    "outputId": "f654dc7c-d2c8-4a7f-df85-374ff66451c5"
   },
   "outputs": [
    {
     "data": {
      "text/plain": [
       "<tf.Tensor: shape=(2, 3), dtype=int32, numpy=\n",
       "array([[21, 83, 42],\n",
       "       [56, 98, 24]], dtype=int32)>"
      ]
     },
     "execution_count": 102,
     "metadata": {
      "tags": []
     },
     "output_type": "execute_result"
    }
   ],
   "source": [
    "value_as_tensor[:, 0]"
   ]
  },
  {
   "cell_type": "code",
   "execution_count": null,
   "metadata": {
    "colab": {
     "base_uri": "https://localhost:8080/"
    },
    "id": "zHkGWfVUXKml",
    "outputId": "61e6f6e8-a0a8-4936-8f36-77eb3ce40660"
   },
   "outputs": [
    {
     "data": {
      "text/plain": [
       "<tf.Tensor: shape=(2, 3), dtype=int32, numpy=\n",
       "array([[35, 12, 67],\n",
       "       [64, 78, 98]], dtype=int32)>"
      ]
     },
     "execution_count": 103,
     "metadata": {
      "tags": []
     },
     "output_type": "execute_result"
    }
   ],
   "source": [
    "value_as_tensor[:, 1]"
   ]
  },
  {
   "cell_type": "code",
   "execution_count": null,
   "metadata": {
    "colab": {
     "base_uri": "https://localhost:8080/"
    },
    "id": "rHTKhr9OXKml",
    "outputId": "3d86d62b-b065-478c-af49-7d79f076e69e"
   },
   "outputs": [
    {
     "data": {
      "text/plain": [
       "<tf.Tensor: shape=(), dtype=int32, numpy=21>"
      ]
     },
     "execution_count": 104,
     "metadata": {
      "tags": []
     },
     "output_type": "execute_result"
    }
   ],
   "source": [
    "value_as_tensor[0, 0, 0]"
   ]
  },
  {
   "cell_type": "code",
   "execution_count": null,
   "metadata": {
    "colab": {
     "base_uri": "https://localhost:8080/"
    },
    "id": "tWzbDy9AXKmm",
    "outputId": "d6518742-590e-4322-bffd-bcae6db88bfd"
   },
   "outputs": [
    {
     "data": {
      "text/plain": [
       "<tf.Tensor: shape=(), dtype=int32, numpy=83>"
      ]
     },
     "execution_count": 105,
     "metadata": {
      "tags": []
     },
     "output_type": "execute_result"
    }
   ],
   "source": [
    "value_as_tensor[0, 0, 1]"
   ]
  },
  {
   "cell_type": "code",
   "execution_count": null,
   "metadata": {
    "colab": {
     "base_uri": "https://localhost:8080/"
    },
    "id": "Wil0km1mXKmm",
    "outputId": "b1138c85-fd76-47f6-a8bb-9d487ff6046a"
   },
   "outputs": [
    {
     "data": {
      "text/plain": [
       "<tf.Tensor: shape=(), dtype=int32, numpy=42>"
      ]
     },
     "execution_count": 106,
     "metadata": {
      "tags": []
     },
     "output_type": "execute_result"
    }
   ],
   "source": [
    "value_as_tensor[0, 0, 2]"
   ]
  },
  {
   "cell_type": "code",
   "execution_count": null,
   "metadata": {
    "colab": {
     "base_uri": "https://localhost:8080/"
    },
    "id": "QI7DyMxoXKmm",
    "outputId": "19a6ba75-056d-4499-8603-8aba7252e1e9"
   },
   "outputs": [
    {
     "data": {
      "text/plain": [
       "<tf.Tensor: shape=(2, 2), dtype=int32, numpy=\n",
       "array([[21, 35],\n",
       "       [56, 64]], dtype=int32)>"
      ]
     },
     "execution_count": 107,
     "metadata": {
      "tags": []
     },
     "output_type": "execute_result"
    }
   ],
   "source": [
    "value_as_tensor[:, :, 0]"
   ]
  },
  {
   "cell_type": "code",
   "execution_count": null,
   "metadata": {
    "colab": {
     "base_uri": "https://localhost:8080/"
    },
    "id": "TGDAVvePXKmm",
    "outputId": "a7706b20-2f2b-4522-c5ec-f161ec483add"
   },
   "outputs": [
    {
     "data": {
      "text/plain": [
       "<tf.Tensor: shape=(2, 2), dtype=int32, numpy=\n",
       "array([[83, 12],\n",
       "       [98, 78]], dtype=int32)>"
      ]
     },
     "execution_count": 108,
     "metadata": {
      "tags": []
     },
     "output_type": "execute_result"
    }
   ],
   "source": [
    "value_as_tensor[:, :, 1]"
   ]
  },
  {
   "cell_type": "code",
   "execution_count": null,
   "metadata": {
    "colab": {
     "base_uri": "https://localhost:8080/"
    },
    "id": "bh6zOx-5XKmm",
    "outputId": "f3585b11-e740-4e9c-d0d4-089379220558"
   },
   "outputs": [
    {
     "data": {
      "text/plain": [
       "<tf.Tensor: shape=(2, 2), dtype=int32, numpy=\n",
       "array([[42, 67],\n",
       "       [24, 98]], dtype=int32)>"
      ]
     },
     "execution_count": 109,
     "metadata": {
      "tags": []
     },
     "output_type": "execute_result"
    }
   ],
   "source": [
    "value_as_tensor[:, :, 2]"
   ]
  },
  {
   "cell_type": "markdown",
   "metadata": {
    "id": "vQnNcCuqXKmm"
   },
   "source": [
    "## Manipulando *Shapes*"
   ]
  },
  {
   "cell_type": "code",
   "execution_count": null,
   "metadata": {
    "colab": {
     "base_uri": "https://localhost:8080/"
    },
    "id": "a2EYT3sGXKmm",
    "outputId": "289cf8a9-9e95-489c-d64c-4903422d1783"
   },
   "outputs": [
    {
     "data": {
      "text/plain": [
       "TensorShape([2, 2, 3])"
      ]
     },
     "execution_count": 110,
     "metadata": {
      "tags": []
     },
     "output_type": "execute_result"
    }
   ],
   "source": [
    "value = [ [[21, 83, 42],\n",
    "           [35, 12, 67]],\n",
    "          [[56, 98, 24],\n",
    "           [64, 78, 98]] ]\n",
    "value_as_tensor = tf.convert_to_tensor(value)\n",
    "\n",
    "value_as_tensor.shape"
   ]
  },
  {
   "cell_type": "code",
   "execution_count": null,
   "metadata": {
    "colab": {
     "base_uri": "https://localhost:8080/"
    },
    "id": "zV4GsjDRXKmn",
    "outputId": "e2bd15bc-b60f-4820-a54c-1602d61c2811"
   },
   "outputs": [
    {
     "data": {
      "text/plain": [
       "<tf.Tensor: shape=(12,), dtype=int32, numpy=array([21, 83, 42, 35, 12, 67, 56, 98, 24, 64, 78, 98], dtype=int32)>"
      ]
     },
     "execution_count": 111,
     "metadata": {
      "tags": []
     },
     "output_type": "execute_result"
    }
   ],
   "source": [
    "tf.reshape(value_as_tensor, (12,))"
   ]
  },
  {
   "cell_type": "code",
   "execution_count": null,
   "metadata": {
    "colab": {
     "base_uri": "https://localhost:8080/"
    },
    "id": "2MWp_gMDXKmn",
    "outputId": "a35c55a1-7a4b-4de2-9bca-a36074e8188d"
   },
   "outputs": [
    {
     "data": {
      "text/plain": [
       "<tf.Tensor: shape=(2, 6), dtype=int32, numpy=\n",
       "array([[21, 83, 42, 35, 12, 67],\n",
       "       [56, 98, 24, 64, 78, 98]], dtype=int32)>"
      ]
     },
     "execution_count": 112,
     "metadata": {
      "tags": []
     },
     "output_type": "execute_result"
    }
   ],
   "source": [
    "tf.reshape(value_as_tensor, (2, 6))"
   ]
  },
  {
   "cell_type": "code",
   "execution_count": null,
   "metadata": {
    "colab": {
     "base_uri": "https://localhost:8080/"
    },
    "id": "EU1eHZG9XKmn",
    "outputId": "ef37f5fe-a911-4aef-9704-373ac2c75c02"
   },
   "outputs": [
    {
     "data": {
      "text/plain": [
       "<tf.Tensor: shape=(4, 3), dtype=int32, numpy=\n",
       "array([[21, 83, 42],\n",
       "       [35, 12, 67],\n",
       "       [56, 98, 24],\n",
       "       [64, 78, 98]], dtype=int32)>"
      ]
     },
     "execution_count": 113,
     "metadata": {
      "tags": []
     },
     "output_type": "execute_result"
    }
   ],
   "source": [
    "tf.reshape(value_as_tensor, (4, 3))"
   ]
  },
  {
   "cell_type": "code",
   "execution_count": null,
   "metadata": {
    "colab": {
     "base_uri": "https://localhost:8080/"
    },
    "id": "ExmLs28IXKmn",
    "outputId": "2545bcbd-fe1e-4662-972c-ac65c6fe0e9d"
   },
   "outputs": [
    {
     "data": {
      "text/plain": [
       "<tf.Tensor: shape=(3, 4), dtype=int32, numpy=\n",
       "array([[21, 83, 42, 35],\n",
       "       [12, 67, 56, 98],\n",
       "       [24, 64, 78, 98]], dtype=int32)>"
      ]
     },
     "execution_count": 114,
     "metadata": {
      "tags": []
     },
     "output_type": "execute_result"
    }
   ],
   "source": [
    "tf.reshape(value_as_tensor, (3, 4))"
   ]
  },
  {
   "cell_type": "code",
   "execution_count": null,
   "metadata": {
    "colab": {
     "base_uri": "https://localhost:8080/"
    },
    "id": "JXDHgo1mXKmp",
    "outputId": "2cbe6398-d39b-4e8c-9458-1305a1f85672"
   },
   "outputs": [
    {
     "data": {
      "text/plain": [
       "<tf.Tensor: shape=(12,), dtype=int32, numpy=array([21, 83, 42, 35, 12, 67, 56, 98, 24, 64, 78, 98], dtype=int32)>"
      ]
     },
     "execution_count": 115,
     "metadata": {
      "tags": []
     },
     "output_type": "execute_result"
    }
   ],
   "source": [
    "tf.reshape(value_as_tensor, (-1,))"
   ]
  },
  {
   "cell_type": "code",
   "execution_count": null,
   "metadata": {
    "colab": {
     "base_uri": "https://localhost:8080/"
    },
    "id": "GXSpZumBXKmp",
    "outputId": "377297f4-b7d0-479a-d3d6-711d46d8e95c"
   },
   "outputs": [
    {
     "data": {
      "text/plain": [
       "<tf.Tensor: shape=(3, 4), dtype=int32, numpy=\n",
       "array([[21, 83, 42, 35],\n",
       "       [12, 67, 56, 98],\n",
       "       [24, 64, 78, 98]], dtype=int32)>"
      ]
     },
     "execution_count": 116,
     "metadata": {
      "tags": []
     },
     "output_type": "execute_result"
    }
   ],
   "source": [
    "tf.reshape(value_as_tensor, (3, -1))"
   ]
  },
  {
   "cell_type": "markdown",
   "metadata": {
    "id": "HbOqxfJBXKmp"
   },
   "source": [
    "## Convertir Tensores a NumPy array"
   ]
  },
  {
   "cell_type": "code",
   "execution_count": null,
   "metadata": {
    "id": "5ksIogGQXKmp"
   },
   "outputs": [],
   "source": [
    "value = [21, 83, 42, 35]\n",
    "value_as_tensor = tf.convert_to_tensor(value)"
   ]
  },
  {
   "cell_type": "code",
   "execution_count": null,
   "metadata": {
    "colab": {
     "base_uri": "https://localhost:8080/"
    },
    "id": "3ZxXX78qXKmq",
    "outputId": "e83ef160-f461-4b36-b5a8-b33dd9fb2f54"
   },
   "outputs": [
    {
     "data": {
      "text/plain": [
       "array([21, 83, 42, 35], dtype=int32)"
      ]
     },
     "execution_count": 118,
     "metadata": {
      "tags": []
     },
     "output_type": "execute_result"
    }
   ],
   "source": [
    "value_as_tensor.numpy()"
   ]
  },
  {
   "cell_type": "code",
   "execution_count": null,
   "metadata": {
    "colab": {
     "base_uri": "https://localhost:8080/"
    },
    "id": "_8MY36ILXKmq",
    "outputId": "b59f3dc9-b438-475f-9dd4-a752acd0c761"
   },
   "outputs": [
    {
     "data": {
      "text/plain": [
       "array([21, 83, 42, 35], dtype=int32)"
      ]
     },
     "execution_count": 119,
     "metadata": {
      "tags": []
     },
     "output_type": "execute_result"
    }
   ],
   "source": [
    "np.array(value_as_tensor)"
   ]
  },
  {
   "cell_type": "markdown",
   "metadata": {
    "id": "gZEi082hT_Fq"
   },
   "source": [
    "# PyTorch"
   ]
  },
  {
   "cell_type": "code",
   "execution_count": null,
   "metadata": {
    "id": "Nhe4HmFmT_Fr"
   },
   "outputs": [],
   "source": [
    "import torch\n",
    "import numpy as np"
   ]
  },
  {
   "cell_type": "markdown",
   "metadata": {
    "id": "ulkWBT4wT_Fr"
   },
   "source": [
    "## Crear Tensores de diferentes dimensiones"
   ]
  },
  {
   "cell_type": "code",
   "execution_count": null,
   "metadata": {
    "colab": {
     "base_uri": "https://localhost:8080/"
    },
    "id": "pO-oiE-JT_Fr",
    "outputId": "889b09a0-3a2e-4455-c106-3773f5b00b96"
   },
   "outputs": [
    {
     "data": {
      "text/plain": [
       "tensor(10)"
      ]
     },
     "execution_count": 121,
     "metadata": {
      "tags": []
     },
     "output_type": "execute_result"
    }
   ],
   "source": [
    "value = 10 #rank 0\n",
    "value_as_tensor = torch.tensor(value)\n",
    "\n",
    "value_as_tensor"
   ]
  },
  {
   "cell_type": "code",
   "execution_count": null,
   "metadata": {
    "colab": {
     "base_uri": "https://localhost:8080/"
    },
    "id": "lLLE_fZeT_Fs",
    "outputId": "e0cf0a66-ac4a-4f44-c28d-01fc739d7078"
   },
   "outputs": [
    {
     "data": {
      "text/plain": [
       "tensor([21, 83, 42, 35])"
      ]
     },
     "execution_count": 122,
     "metadata": {
      "tags": []
     },
     "output_type": "execute_result"
    }
   ],
   "source": [
    "value = [21, 83, 42, 35] #rank 1\n",
    "value_as_tensor = torch.tensor(value)\n",
    "\n",
    "value_as_tensor"
   ]
  },
  {
   "cell_type": "code",
   "execution_count": null,
   "metadata": {
    "colab": {
     "base_uri": "https://localhost:8080/"
    },
    "id": "o5zd2KmxT_Fs",
    "outputId": "f3a8478e-91b9-463b-dd25-527a095bb887"
   },
   "outputs": [
    {
     "data": {
      "text/plain": [
       "tensor([[21, 83, 42],\n",
       "        [35, 12, 67]])"
      ]
     },
     "execution_count": 123,
     "metadata": {
      "tags": []
     },
     "output_type": "execute_result"
    }
   ],
   "source": [
    "value = [[21, 83, 42],\n",
    "         [35, 12, 67]] #rank 2\n",
    "value_as_tensor = torch.tensor(value)\n",
    "\n",
    "value_as_tensor"
   ]
  },
  {
   "cell_type": "code",
   "execution_count": null,
   "metadata": {
    "colab": {
     "base_uri": "https://localhost:8080/"
    },
    "id": "A1oZ75EQT_Fs",
    "outputId": "88acc167-919d-41b7-ce01-1085425c6243"
   },
   "outputs": [
    {
     "data": {
      "text/plain": [
       "tensor([[[21, 83, 42],\n",
       "         [35, 12, 67]],\n",
       "\n",
       "        [[56, 98, 24],\n",
       "         [64, 78, 98]]])"
      ]
     },
     "execution_count": 124,
     "metadata": {
      "tags": []
     },
     "output_type": "execute_result"
    }
   ],
   "source": [
    "value = [ [[21, 83, 42],\n",
    "           [35, 12, 67]],\n",
    "          [[56, 98, 24],\n",
    "           [64, 78, 98]] ] #rank 3\n",
    "value_as_tensor = torch.tensor(value)\n",
    "\n",
    "value_as_tensor"
   ]
  },
  {
   "cell_type": "markdown",
   "metadata": {
    "id": "uv6CHfpMT_Fs"
   },
   "source": [
    "## Atributos de los tensores"
   ]
  },
  {
   "cell_type": "code",
   "execution_count": null,
   "metadata": {
    "id": "-cD4B_MQT_Fs"
   },
   "outputs": [],
   "source": [
    "value = [[21, 83, 42],\n",
    "         [35, 12, 67]]\n",
    "value_as_tensor = torch.tensor(value)"
   ]
  },
  {
   "cell_type": "code",
   "execution_count": null,
   "metadata": {
    "colab": {
     "base_uri": "https://localhost:8080/"
    },
    "id": "7wT2ZBEjT_Fs",
    "outputId": "b77134bf-109b-47a1-adc7-d163319b765a"
   },
   "outputs": [
    {
     "data": {
      "text/plain": [
       "2"
      ]
     },
     "execution_count": 126,
     "metadata": {
      "tags": []
     },
     "output_type": "execute_result"
    }
   ],
   "source": [
    "#Number of axes\n",
    "value_as_tensor.ndim"
   ]
  },
  {
   "cell_type": "code",
   "execution_count": null,
   "metadata": {
    "colab": {
     "base_uri": "https://localhost:8080/"
    },
    "id": "n2p7X_7lT_Ft",
    "outputId": "99fc07a6-5591-4a3d-861c-962338a0e694"
   },
   "outputs": [
    {
     "data": {
      "text/plain": [
       "torch.Size([2, 3])"
      ]
     },
     "execution_count": 127,
     "metadata": {
      "tags": []
     },
     "output_type": "execute_result"
    }
   ],
   "source": [
    "#Length (number of elements) of each of the axes of a Tensor\n",
    "value_as_tensor.shape"
   ]
  },
  {
   "cell_type": "code",
   "execution_count": null,
   "metadata": {
    "colab": {
     "base_uri": "https://localhost:8080/"
    },
    "id": "8kA_c3n1T_Ft",
    "outputId": "10362264-49af-49f0-e2b8-401c8ea934bf"
   },
   "outputs": [
    {
     "data": {
      "text/plain": [
       "torch.int64"
      ]
     },
     "execution_count": 128,
     "metadata": {
      "tags": []
     },
     "output_type": "execute_result"
    }
   ],
   "source": [
    "#Type of every element in the Tensor\n",
    "value_as_tensor.dtype"
   ]
  },
  {
   "cell_type": "markdown",
   "metadata": {
    "id": "bBp8b-bwT_Ft"
   },
   "source": [
    "## Operaciones con Tensores"
   ]
  },
  {
   "cell_type": "code",
   "execution_count": null,
   "metadata": {
    "id": "1-0eyCg0T_Ft"
   },
   "outputs": [],
   "source": [
    "value_1 = [[21, 83],\n",
    "           [42, 35]]\n",
    "value_2 = [[95, 78],\n",
    "           [65, 32]]\n",
    "\n",
    "tensor_1 = torch.tensor(value_1)\n",
    "tensor_2 = torch.tensor(value_2)"
   ]
  },
  {
   "cell_type": "markdown",
   "metadata": {
    "id": "Zf2WZKw3T_Ft"
   },
   "source": [
    "### Suma"
   ]
  },
  {
   "cell_type": "code",
   "execution_count": null,
   "metadata": {
    "colab": {
     "base_uri": "https://localhost:8080/"
    },
    "id": "LoV9HFuIT_Ft",
    "outputId": "2e19297e-64c2-4d01-972d-6791d6152926"
   },
   "outputs": [
    {
     "data": {
      "text/plain": [
       "tensor([[116, 161],\n",
       "        [107,  67]])"
      ]
     },
     "execution_count": 130,
     "metadata": {
      "tags": []
     },
     "output_type": "execute_result"
    }
   ],
   "source": [
    "tensor_1.add(tensor_2)"
   ]
  },
  {
   "cell_type": "code",
   "execution_count": null,
   "metadata": {
    "colab": {
     "base_uri": "https://localhost:8080/"
    },
    "id": "0tubR9X4T_Fu",
    "outputId": "2afe4ec0-0521-4721-e15b-3ea0a29bf5c1"
   },
   "outputs": [
    {
     "data": {
      "text/plain": [
       "tensor([[116, 161],\n",
       "        [107,  67]])"
      ]
     },
     "execution_count": 131,
     "metadata": {
      "tags": []
     },
     "output_type": "execute_result"
    }
   ],
   "source": [
    "tensor_1 + tensor_2"
   ]
  },
  {
   "cell_type": "markdown",
   "metadata": {
    "id": "JLJzpJ7oT_Fu"
   },
   "source": [
    "### Resta"
   ]
  },
  {
   "cell_type": "code",
   "execution_count": null,
   "metadata": {
    "colab": {
     "base_uri": "https://localhost:8080/"
    },
    "id": "wha9PCI7T_Fu",
    "outputId": "0254cbc8-d95a-4284-89ae-3d21ba7c3b2b"
   },
   "outputs": [
    {
     "data": {
      "text/plain": [
       "tensor([[-74,   5],\n",
       "        [-23,   3]])"
      ]
     },
     "execution_count": 132,
     "metadata": {
      "tags": []
     },
     "output_type": "execute_result"
    }
   ],
   "source": [
    "tensor_1.subtract(tensor_2)"
   ]
  },
  {
   "cell_type": "code",
   "execution_count": null,
   "metadata": {
    "colab": {
     "base_uri": "https://localhost:8080/"
    },
    "id": "lRS0jdbiT_Fu",
    "outputId": "1d3c1865-a2e2-4405-8cfe-061767392148"
   },
   "outputs": [
    {
     "data": {
      "text/plain": [
       "tensor([[-74,   5],\n",
       "        [-23,   3]])"
      ]
     },
     "execution_count": 133,
     "metadata": {
      "tags": []
     },
     "output_type": "execute_result"
    }
   ],
   "source": [
    "tensor_1 - tensor_2"
   ]
  },
  {
   "cell_type": "markdown",
   "metadata": {
    "id": "sz3T_TodT_Fu"
   },
   "source": [
    "### Multiplicación de elementos"
   ]
  },
  {
   "cell_type": "code",
   "execution_count": null,
   "metadata": {
    "colab": {
     "base_uri": "https://localhost:8080/"
    },
    "id": "CYI5rS4ET_Fu",
    "outputId": "56122ab9-555b-4f61-d6cd-b5f45505c96e"
   },
   "outputs": [
    {
     "data": {
      "text/plain": [
       "tensor([[1995, 6474],\n",
       "        [2730, 1120]])"
      ]
     },
     "execution_count": 134,
     "metadata": {
      "tags": []
     },
     "output_type": "execute_result"
    }
   ],
   "source": [
    "tensor_1.multiply(tensor_2)"
   ]
  },
  {
   "cell_type": "code",
   "execution_count": null,
   "metadata": {
    "colab": {
     "base_uri": "https://localhost:8080/"
    },
    "id": "kerLjZhMT_Fv",
    "outputId": "798760e5-1c49-43fd-cc60-a29a3cdafdc3"
   },
   "outputs": [
    {
     "data": {
      "text/plain": [
       "tensor([[1995, 6474],\n",
       "        [2730, 1120]])"
      ]
     },
     "execution_count": 135,
     "metadata": {
      "tags": []
     },
     "output_type": "execute_result"
    }
   ],
   "source": [
    "tensor_1 * tensor_2"
   ]
  },
  {
   "cell_type": "markdown",
   "metadata": {
    "id": "DT2lj9DgT_Fv"
   },
   "source": [
    "### Multiplicación de matrices"
   ]
  },
  {
   "cell_type": "code",
   "execution_count": null,
   "metadata": {
    "colab": {
     "base_uri": "https://localhost:8080/"
    },
    "id": "qUz_GsgiT_Fv",
    "outputId": "44c74e3b-1b2f-4531-9ea4-deefb64b2f06"
   },
   "outputs": [
    {
     "data": {
      "text/plain": [
       "tensor([[7390, 4294],\n",
       "        [6265, 4396]])"
      ]
     },
     "execution_count": 136,
     "metadata": {
      "tags": []
     },
     "output_type": "execute_result"
    }
   ],
   "source": [
    "tensor_1.matmul(tensor_2)"
   ]
  },
  {
   "cell_type": "code",
   "execution_count": null,
   "metadata": {
    "colab": {
     "base_uri": "https://localhost:8080/"
    },
    "id": "RouqyU4zT_Fv",
    "outputId": "5fadb8d8-925f-4bec-a303-b61c4d3eae61"
   },
   "outputs": [
    {
     "data": {
      "text/plain": [
       "tensor([[7390, 4294],\n",
       "        [6265, 4396]])"
      ]
     },
     "execution_count": 137,
     "metadata": {
      "tags": []
     },
     "output_type": "execute_result"
    }
   ],
   "source": [
    "tensor_1 @ tensor_2"
   ]
  },
  {
   "cell_type": "markdown",
   "metadata": {
    "id": "Vq8EPCbogEWC"
   },
   "source": [
    "## Obtener la transpuesta"
   ]
  },
  {
   "cell_type": "code",
   "execution_count": null,
   "metadata": {
    "id": "wlYq0bAagEWJ"
   },
   "outputs": [],
   "source": [
    "value = [ [[21, 83, 42],\n",
    "           [35, 12, 67]],\n",
    "          [[56, 98, 24],\n",
    "           [64, 78, 98]] ]\n",
    "value_as_tensor = torch.tensor(value)"
   ]
  },
  {
   "cell_type": "code",
   "execution_count": null,
   "metadata": {
    "colab": {
     "base_uri": "https://localhost:8080/"
    },
    "id": "CxNWSTP7godH",
    "outputId": "2888483f-83b9-45f3-8f69-c85d329ab200"
   },
   "outputs": [
    {
     "data": {
      "text/plain": [
       "tensor([[[21, 56],\n",
       "         [35, 64]],\n",
       "\n",
       "        [[83, 98],\n",
       "         [12, 78]],\n",
       "\n",
       "        [[42, 24],\n",
       "         [67, 98]]])"
      ]
     },
     "execution_count": 139,
     "metadata": {
      "tags": []
     },
     "output_type": "execute_result"
    }
   ],
   "source": [
    "value_as_tensor.transpose(0, 2)"
   ]
  },
  {
   "cell_type": "markdown",
   "metadata": {
    "id": "_om7AGmRgEWJ"
   },
   "source": [
    "## Obtener la inversa"
   ]
  },
  {
   "cell_type": "code",
   "execution_count": null,
   "metadata": {
    "id": "TWtS4uYngEWJ"
   },
   "outputs": [],
   "source": [
    "value = [[21, 83],\n",
    "         [35, 12]]\n",
    "value_as_tensor = torch.tensor(value, dtype=torch.float32)"
   ]
  },
  {
   "cell_type": "code",
   "execution_count": null,
   "metadata": {
    "colab": {
     "base_uri": "https://localhost:8080/"
    },
    "id": "HM097EAQgyf0",
    "outputId": "2de1abf2-529d-4de8-92e3-733aef5b38cc"
   },
   "outputs": [
    {
     "data": {
      "text/plain": [
       "tensor([[-0.0045,  0.0313],\n",
       "        [ 0.0132, -0.0079]])"
      ]
     },
     "execution_count": 141,
     "metadata": {
      "tags": []
     },
     "output_type": "execute_result"
    }
   ],
   "source": [
    "value_as_tensor.inverse()"
   ]
  },
  {
   "cell_type": "markdown",
   "metadata": {
    "id": "bxidvmwgT_Fx"
   },
   "source": [
    "## Obtener la cantidad de elementos"
   ]
  },
  {
   "cell_type": "code",
   "execution_count": null,
   "metadata": {
    "colab": {
     "base_uri": "https://localhost:8080/"
    },
    "id": "sP-5A8hqT_Fy",
    "outputId": "869ae070-1a66-4f90-dea1-3b6d9a5f7391"
   },
   "outputs": [
    {
     "data": {
      "text/plain": [
       "12"
      ]
     },
     "execution_count": 142,
     "metadata": {
      "tags": []
     },
     "output_type": "execute_result"
    }
   ],
   "source": [
    "value = [ [[21, 83, 42],\n",
    "           [35, 12, 67]],\n",
    "          [[56, 98, 24],\n",
    "           [64, 78, 98]] ]\n",
    "value_as_tensor = torch.tensor(value)\n",
    "\n",
    "#Number of elements\n",
    "value_as_tensor.numel()"
   ]
  },
  {
   "cell_type": "markdown",
   "metadata": {
    "id": "yOvA58w5T_Fy"
   },
   "source": [
    "## Obtener el mayor elemento y su índice"
   ]
  },
  {
   "cell_type": "code",
   "execution_count": null,
   "metadata": {
    "id": "nJ8uEt8bT_Fy"
   },
   "outputs": [],
   "source": [
    "value = [ [[21, 83, 42],\n",
    "           [35, 12, 67]],\n",
    "          [[56, 98, 24],\n",
    "           [64, 78, 98]] ]\n",
    "value_as_tensor = torch.tensor(value)"
   ]
  },
  {
   "cell_type": "code",
   "execution_count": null,
   "metadata": {
    "colab": {
     "base_uri": "https://localhost:8080/"
    },
    "id": "sXHjkqmKT_Fy",
    "outputId": "9a32ebd2-f707-43b7-faa3-9fe2d9f379b4"
   },
   "outputs": [
    {
     "data": {
      "text/plain": [
       "torch.return_types.max(values=tensor([[56, 98, 42],\n",
       "        [64, 78, 98]]), indices=tensor([[1, 1, 0],\n",
       "        [1, 1, 1]]))"
      ]
     },
     "execution_count": 144,
     "metadata": {
      "tags": []
     },
     "output_type": "execute_result"
    }
   ],
   "source": [
    "value_as_tensor.max(dim=0)"
   ]
  },
  {
   "cell_type": "code",
   "execution_count": null,
   "metadata": {
    "colab": {
     "base_uri": "https://localhost:8080/"
    },
    "id": "6TN1TQxCVvfm",
    "outputId": "32615e64-695e-4c2f-fdcb-c366db135f62"
   },
   "outputs": [
    {
     "data": {
      "text/plain": [
       "torch.return_types.max(values=tensor([[35, 83, 67],\n",
       "        [64, 98, 98]]), indices=tensor([[1, 0, 1],\n",
       "        [1, 0, 1]]))"
      ]
     },
     "execution_count": 145,
     "metadata": {
      "tags": []
     },
     "output_type": "execute_result"
    }
   ],
   "source": [
    "value_as_tensor.max(dim=1)"
   ]
  },
  {
   "cell_type": "code",
   "execution_count": null,
   "metadata": {
    "colab": {
     "base_uri": "https://localhost:8080/"
    },
    "id": "lUD5meUlV1BY",
    "outputId": "6298f02c-5fbf-4e31-e568-023ec93cc474"
   },
   "outputs": [
    {
     "data": {
      "text/plain": [
       "torch.return_types.max(values=tensor([[83, 67],\n",
       "        [98, 98]]), indices=tensor([[1, 2],\n",
       "        [1, 2]]))"
      ]
     },
     "execution_count": 146,
     "metadata": {
      "tags": []
     },
     "output_type": "execute_result"
    }
   ],
   "source": [
    "value_as_tensor.max(dim=2)"
   ]
  },
  {
   "cell_type": "code",
   "execution_count": null,
   "metadata": {
    "colab": {
     "base_uri": "https://localhost:8080/"
    },
    "id": "03wjXjsKV3Zb",
    "outputId": "4acc044e-16f4-46d1-a090-3a3730acc031"
   },
   "outputs": [
    {
     "data": {
      "text/plain": [
       "torch.return_types.max(values=tensor([[83, 67],\n",
       "        [98, 98]]), indices=tensor([[1, 2],\n",
       "        [1, 2]]))"
      ]
     },
     "execution_count": 147,
     "metadata": {
      "tags": []
     },
     "output_type": "execute_result"
    }
   ],
   "source": [
    "value_as_tensor.max(dim=-1) #-1: last_possible_axis"
   ]
  },
  {
   "cell_type": "code",
   "execution_count": null,
   "metadata": {
    "colab": {
     "base_uri": "https://localhost:8080/"
    },
    "id": "8sdN5WgMWGr4",
    "outputId": "45ac29af-04f0-45a3-c2ba-1f913ef60506"
   },
   "outputs": [
    {
     "data": {
      "text/plain": [
       "tensor([[83, 67],\n",
       "        [98, 98]])"
      ]
     },
     "execution_count": 148,
     "metadata": {
      "tags": []
     },
     "output_type": "execute_result"
    }
   ],
   "source": [
    "value_as_tensor.max(dim=-1).values"
   ]
  },
  {
   "cell_type": "code",
   "execution_count": null,
   "metadata": {
    "colab": {
     "base_uri": "https://localhost:8080/"
    },
    "id": "YyMsZwhOWIsn",
    "outputId": "a3c29119-800b-4c5b-b5dc-2f8bb5e1151c"
   },
   "outputs": [
    {
     "data": {
      "text/plain": [
       "tensor([[1, 2],\n",
       "        [1, 2]])"
      ]
     },
     "execution_count": 149,
     "metadata": {
      "tags": []
     },
     "output_type": "execute_result"
    }
   ],
   "source": [
    "value_as_tensor.max(dim=-1).indices"
   ]
  },
  {
   "cell_type": "markdown",
   "metadata": {
    "id": "OTq2XgDQT_F0"
   },
   "source": [
    "## Indexación"
   ]
  },
  {
   "cell_type": "code",
   "execution_count": null,
   "metadata": {
    "id": "YOUS61PoT_F0"
   },
   "outputs": [],
   "source": [
    "value = [ [[21, 83, 42],\n",
    "           [35, 12, 67]],\n",
    "          [[56, 98, 24],\n",
    "           [64, 78, 98]] ]\n",
    "value_as_tensor = torch.tensor(value)"
   ]
  },
  {
   "cell_type": "code",
   "execution_count": null,
   "metadata": {
    "colab": {
     "base_uri": "https://localhost:8080/"
    },
    "id": "fI4vw72yT_F0",
    "outputId": "38d35876-ce11-4a5b-f39f-cb8229748cd7"
   },
   "outputs": [
    {
     "data": {
      "text/plain": [
       "tensor([[21, 83, 42],\n",
       "        [35, 12, 67]])"
      ]
     },
     "execution_count": 151,
     "metadata": {
      "tags": []
     },
     "output_type": "execute_result"
    }
   ],
   "source": [
    "value_as_tensor[0]"
   ]
  },
  {
   "cell_type": "code",
   "execution_count": null,
   "metadata": {
    "colab": {
     "base_uri": "https://localhost:8080/"
    },
    "id": "Q931-Sp6T_F0",
    "outputId": "5c4c9d7e-e1c5-4335-ee3f-e64deb6635a9"
   },
   "outputs": [
    {
     "data": {
      "text/plain": [
       "tensor([[56, 98, 24],\n",
       "        [64, 78, 98]])"
      ]
     },
     "execution_count": 152,
     "metadata": {
      "tags": []
     },
     "output_type": "execute_result"
    }
   ],
   "source": [
    "value_as_tensor[1]"
   ]
  },
  {
   "cell_type": "code",
   "execution_count": null,
   "metadata": {
    "colab": {
     "base_uri": "https://localhost:8080/"
    },
    "id": "fdxsvWJQT_F0",
    "outputId": "0114753f-fd49-4474-9aa4-ac317760e101"
   },
   "outputs": [
    {
     "data": {
      "text/plain": [
       "tensor([[[21, 83, 42],\n",
       "         [35, 12, 67]]])"
      ]
     },
     "execution_count": 153,
     "metadata": {
      "tags": []
     },
     "output_type": "execute_result"
    }
   ],
   "source": [
    "value_as_tensor[0:1]"
   ]
  },
  {
   "cell_type": "code",
   "execution_count": null,
   "metadata": {
    "colab": {
     "base_uri": "https://localhost:8080/"
    },
    "id": "7VtfUfFET_F0",
    "outputId": "a2bfb334-d686-4c41-c80c-9eeb8505c193"
   },
   "outputs": [
    {
     "data": {
      "text/plain": [
       "tensor([[[56, 98, 24],\n",
       "         [64, 78, 98]]])"
      ]
     },
     "execution_count": 154,
     "metadata": {
      "tags": []
     },
     "output_type": "execute_result"
    }
   ],
   "source": [
    "value_as_tensor[1:2]"
   ]
  },
  {
   "cell_type": "code",
   "execution_count": null,
   "metadata": {
    "colab": {
     "base_uri": "https://localhost:8080/"
    },
    "id": "_a0tJ_KaT_F0",
    "outputId": "9f134a8d-1a23-4dad-e356-25d81046ded7"
   },
   "outputs": [
    {
     "data": {
      "text/plain": [
       "tensor([21, 83, 42])"
      ]
     },
     "execution_count": 155,
     "metadata": {
      "tags": []
     },
     "output_type": "execute_result"
    }
   ],
   "source": [
    "value_as_tensor[0, 0]"
   ]
  },
  {
   "cell_type": "code",
   "execution_count": null,
   "metadata": {
    "colab": {
     "base_uri": "https://localhost:8080/"
    },
    "id": "R9MJvjvCT_F1",
    "outputId": "c5f73478-9208-4262-c564-fe43c6702d35"
   },
   "outputs": [
    {
     "data": {
      "text/plain": [
       "tensor([35, 12, 67])"
      ]
     },
     "execution_count": 156,
     "metadata": {
      "tags": []
     },
     "output_type": "execute_result"
    }
   ],
   "source": [
    "value_as_tensor[0, 1]"
   ]
  },
  {
   "cell_type": "code",
   "execution_count": null,
   "metadata": {
    "colab": {
     "base_uri": "https://localhost:8080/"
    },
    "id": "HCKfcPO2T_F1",
    "outputId": "3b3974e7-4c45-4732-852e-34aa1cca6578"
   },
   "outputs": [
    {
     "data": {
      "text/plain": [
       "tensor([[21, 83, 42],\n",
       "        [56, 98, 24]])"
      ]
     },
     "execution_count": 157,
     "metadata": {
      "tags": []
     },
     "output_type": "execute_result"
    }
   ],
   "source": [
    "value_as_tensor[:, 0]"
   ]
  },
  {
   "cell_type": "code",
   "execution_count": null,
   "metadata": {
    "colab": {
     "base_uri": "https://localhost:8080/"
    },
    "id": "PFj1TW8yT_F1",
    "outputId": "fd064be7-ee75-492d-b728-bbb5a0342a26"
   },
   "outputs": [
    {
     "data": {
      "text/plain": [
       "tensor([[35, 12, 67],\n",
       "        [64, 78, 98]])"
      ]
     },
     "execution_count": 158,
     "metadata": {
      "tags": []
     },
     "output_type": "execute_result"
    }
   ],
   "source": [
    "value_as_tensor[:, 1]"
   ]
  },
  {
   "cell_type": "code",
   "execution_count": null,
   "metadata": {
    "colab": {
     "base_uri": "https://localhost:8080/"
    },
    "id": "zowrmZPfT_F1",
    "outputId": "13c38212-7f88-4f9b-a730-0833eb76f618"
   },
   "outputs": [
    {
     "data": {
      "text/plain": [
       "tensor(21)"
      ]
     },
     "execution_count": 159,
     "metadata": {
      "tags": []
     },
     "output_type": "execute_result"
    }
   ],
   "source": [
    "value_as_tensor[0, 0, 0]"
   ]
  },
  {
   "cell_type": "code",
   "execution_count": null,
   "metadata": {
    "colab": {
     "base_uri": "https://localhost:8080/"
    },
    "id": "AEB39xumT_F1",
    "outputId": "e1e12c2b-5777-499f-d854-7c07fb70e7cf"
   },
   "outputs": [
    {
     "data": {
      "text/plain": [
       "tensor(83)"
      ]
     },
     "execution_count": 160,
     "metadata": {
      "tags": []
     },
     "output_type": "execute_result"
    }
   ],
   "source": [
    "value_as_tensor[0, 0, 1]"
   ]
  },
  {
   "cell_type": "code",
   "execution_count": null,
   "metadata": {
    "colab": {
     "base_uri": "https://localhost:8080/"
    },
    "id": "qsQVlN17T_F1",
    "outputId": "c03d5c07-2266-4094-c65d-fa67a98f4fa8"
   },
   "outputs": [
    {
     "data": {
      "text/plain": [
       "tensor(42)"
      ]
     },
     "execution_count": 161,
     "metadata": {
      "tags": []
     },
     "output_type": "execute_result"
    }
   ],
   "source": [
    "value_as_tensor[0, 0, 2]"
   ]
  },
  {
   "cell_type": "code",
   "execution_count": null,
   "metadata": {
    "colab": {
     "base_uri": "https://localhost:8080/"
    },
    "id": "edeCRWr7T_F1",
    "outputId": "e4f70d20-c985-4af7-e933-b6f0b9f9d1ca"
   },
   "outputs": [
    {
     "data": {
      "text/plain": [
       "tensor([[21, 35],\n",
       "        [56, 64]])"
      ]
     },
     "execution_count": 162,
     "metadata": {
      "tags": []
     },
     "output_type": "execute_result"
    }
   ],
   "source": [
    "value_as_tensor[:, :, 0]"
   ]
  },
  {
   "cell_type": "code",
   "execution_count": null,
   "metadata": {
    "colab": {
     "base_uri": "https://localhost:8080/"
    },
    "id": "185Ug1xpT_F2",
    "outputId": "842ed5cf-2efd-4d13-df10-a44c426013db"
   },
   "outputs": [
    {
     "data": {
      "text/plain": [
       "tensor([[83, 12],\n",
       "        [98, 78]])"
      ]
     },
     "execution_count": 163,
     "metadata": {
      "tags": []
     },
     "output_type": "execute_result"
    }
   ],
   "source": [
    "value_as_tensor[:, :, 1]"
   ]
  },
  {
   "cell_type": "code",
   "execution_count": null,
   "metadata": {
    "colab": {
     "base_uri": "https://localhost:8080/"
    },
    "id": "BVjxEOQKT_F2",
    "outputId": "ed971d6b-86b0-4ded-9835-0df537b4a836"
   },
   "outputs": [
    {
     "data": {
      "text/plain": [
       "tensor([[42, 67],\n",
       "        [24, 98]])"
      ]
     },
     "execution_count": 164,
     "metadata": {
      "tags": []
     },
     "output_type": "execute_result"
    }
   ],
   "source": [
    "value_as_tensor[:, :, 2]"
   ]
  },
  {
   "cell_type": "markdown",
   "metadata": {
    "id": "3VZgWECaT_F2"
   },
   "source": [
    "## Manipulando *Shapes*"
   ]
  },
  {
   "cell_type": "code",
   "execution_count": null,
   "metadata": {
    "colab": {
     "base_uri": "https://localhost:8080/"
    },
    "id": "PNS7wFRVT_F2",
    "outputId": "fb29c28e-df80-461d-9e00-cfb3e8165f0d"
   },
   "outputs": [
    {
     "data": {
      "text/plain": [
       "torch.Size([2, 2, 3])"
      ]
     },
     "execution_count": 165,
     "metadata": {
      "tags": []
     },
     "output_type": "execute_result"
    }
   ],
   "source": [
    "value = [ [[21, 83, 42],\n",
    "           [35, 12, 67]],\n",
    "          [[56, 98, 24],\n",
    "           [64, 78, 98]] ]\n",
    "value_as_tensor = torch.tensor(value)\n",
    "\n",
    "value_as_tensor.shape"
   ]
  },
  {
   "cell_type": "code",
   "execution_count": null,
   "metadata": {
    "colab": {
     "base_uri": "https://localhost:8080/"
    },
    "id": "TRnZYBD4T_F2",
    "outputId": "ed41d67c-fa80-4e54-d9ba-70a60c2f3eab"
   },
   "outputs": [
    {
     "data": {
      "text/plain": [
       "tensor([21, 83, 42, 35, 12, 67, 56, 98, 24, 64, 78, 98])"
      ]
     },
     "execution_count": 166,
     "metadata": {
      "tags": []
     },
     "output_type": "execute_result"
    }
   ],
   "source": [
    "value_as_tensor.reshape((12,))"
   ]
  },
  {
   "cell_type": "code",
   "execution_count": null,
   "metadata": {
    "colab": {
     "base_uri": "https://localhost:8080/"
    },
    "id": "0_ysIz80T_F2",
    "outputId": "c5bbe145-0d00-49c7-a51d-00f9b2bc2ce6"
   },
   "outputs": [
    {
     "data": {
      "text/plain": [
       "tensor([[21, 83, 42, 35, 12, 67],\n",
       "        [56, 98, 24, 64, 78, 98]])"
      ]
     },
     "execution_count": 167,
     "metadata": {
      "tags": []
     },
     "output_type": "execute_result"
    }
   ],
   "source": [
    "value_as_tensor.reshape((2, 6))"
   ]
  },
  {
   "cell_type": "code",
   "execution_count": null,
   "metadata": {
    "colab": {
     "base_uri": "https://localhost:8080/"
    },
    "id": "r8qu0hpcT_F3",
    "outputId": "ebc6db05-9d59-4c09-a7db-745182ec8b59"
   },
   "outputs": [
    {
     "data": {
      "text/plain": [
       "tensor([[21, 83, 42],\n",
       "        [35, 12, 67],\n",
       "        [56, 98, 24],\n",
       "        [64, 78, 98]])"
      ]
     },
     "execution_count": 168,
     "metadata": {
      "tags": []
     },
     "output_type": "execute_result"
    }
   ],
   "source": [
    "value_as_tensor.reshape((4, 3))"
   ]
  },
  {
   "cell_type": "code",
   "execution_count": null,
   "metadata": {
    "colab": {
     "base_uri": "https://localhost:8080/"
    },
    "id": "GVHi0bMCT_F3",
    "outputId": "bc5876ea-4e60-4788-cc61-97b9a2918697"
   },
   "outputs": [
    {
     "data": {
      "text/plain": [
       "tensor([[21, 83, 42, 35],\n",
       "        [12, 67, 56, 98],\n",
       "        [24, 64, 78, 98]])"
      ]
     },
     "execution_count": 169,
     "metadata": {
      "tags": []
     },
     "output_type": "execute_result"
    }
   ],
   "source": [
    "value_as_tensor.reshape((3, 4))"
   ]
  },
  {
   "cell_type": "code",
   "execution_count": null,
   "metadata": {
    "colab": {
     "base_uri": "https://localhost:8080/"
    },
    "id": "4qfnIchDT_F3",
    "outputId": "fff9ec7e-769a-4576-cc56-329d951cc646"
   },
   "outputs": [
    {
     "data": {
      "text/plain": [
       "tensor([21, 83, 42, 35, 12, 67, 56, 98, 24, 64, 78, 98])"
      ]
     },
     "execution_count": 170,
     "metadata": {
      "tags": []
     },
     "output_type": "execute_result"
    }
   ],
   "source": [
    "value_as_tensor.reshape((-1,))"
   ]
  },
  {
   "cell_type": "code",
   "execution_count": null,
   "metadata": {
    "colab": {
     "base_uri": "https://localhost:8080/"
    },
    "id": "u_wzzIGGT_F3",
    "outputId": "435f4e63-d54c-40b1-f12c-bba8ac0f1a7e"
   },
   "outputs": [
    {
     "data": {
      "text/plain": [
       "tensor([[21, 83, 42, 35],\n",
       "        [12, 67, 56, 98],\n",
       "        [24, 64, 78, 98]])"
      ]
     },
     "execution_count": 171,
     "metadata": {
      "tags": []
     },
     "output_type": "execute_result"
    }
   ],
   "source": [
    "value_as_tensor.reshape((3, -1))"
   ]
  },
  {
   "cell_type": "markdown",
   "metadata": {
    "id": "32oEK2HfT_F3"
   },
   "source": [
    "## Convertir Tensores a NumPy array"
   ]
  },
  {
   "cell_type": "code",
   "execution_count": null,
   "metadata": {
    "id": "Zivl5cy-T_F3"
   },
   "outputs": [],
   "source": [
    "value = [21, 83, 42, 35]\n",
    "value_as_tensor = torch.tensor(value)"
   ]
  },
  {
   "cell_type": "code",
   "execution_count": null,
   "metadata": {
    "colab": {
     "base_uri": "https://localhost:8080/"
    },
    "id": "ozs8zIxQT_F3",
    "outputId": "84697813-7e41-45fb-f524-ad5f06624e5e"
   },
   "outputs": [
    {
     "data": {
      "text/plain": [
       "array([21, 83, 42, 35])"
      ]
     },
     "execution_count": 173,
     "metadata": {
      "tags": []
     },
     "output_type": "execute_result"
    }
   ],
   "source": [
    "value_as_tensor.numpy()"
   ]
  },
  {
   "cell_type": "code",
   "execution_count": null,
   "metadata": {
    "colab": {
     "base_uri": "https://localhost:8080/"
    },
    "id": "NYNG4ARuT_F5",
    "outputId": "ba9c644e-a523-498b-a2a1-ea62d9fd0176"
   },
   "outputs": [
    {
     "data": {
      "text/plain": [
       "array([21, 83, 42, 35])"
      ]
     },
     "execution_count": 174,
     "metadata": {
      "tags": []
     },
     "output_type": "execute_result"
    }
   ],
   "source": [
    "np.array(value_as_tensor)"
   ]
  },
  {
   "cell_type": "markdown",
   "metadata": {
    "id": "H6S1fCHsZaaM"
   },
   "source": [
    "# Ejercicio"
   ]
  },
  {
   "cell_type": "markdown",
   "metadata": {
    "id": "nhLLHNBmZkD8"
   },
   "source": [
    "## NumPy"
   ]
  },
  {
   "cell_type": "code",
   "execution_count": null,
   "metadata": {
    "id": "hrZCai8eZcvr"
   },
   "outputs": [],
   "source": [
    "import numpy as np\n",
    "\n",
    "np.random.seed(0)"
   ]
  },
  {
   "cell_type": "code",
   "execution_count": null,
   "metadata": {
    "id": "EYM98LW1Zbuk"
   },
   "outputs": [],
   "source": [
    "x = np.arange(100)/100\n",
    "y = x + np.random.normal(scale=0.05, size=100)"
   ]
  },
  {
   "cell_type": "code",
   "execution_count": null,
   "metadata": {
    "id": "VK9v6RdnO3iF"
   },
   "outputs": [],
   "source": [
    "#Agregamos 1's en la primera columna al arreglo de x\n",
    "x = np.array([np.array([1, i]) for i in x])"
   ]
  },
  {
   "cell_type": "code",
   "execution_count": null,
   "metadata": {
    "id": "GpMFIyKviodO"
   },
   "outputs": [],
   "source": [
    "y = y.reshape((-1, 1))"
   ]
  },
  {
   "cell_type": "markdown",
   "metadata": {
    "id": "D9TGrCgScox-"
   },
   "source": [
    "Calcular $ z = (x^{T} x)^{-1} x^{T}y $"
   ]
  },
  {
   "cell_type": "code",
   "execution_count": null,
   "metadata": {
    "id": "jUl_SXtxlDTk"
   },
   "outputs": [],
   "source": []
  },
  {
   "cell_type": "markdown",
   "metadata": {
    "id": "fZWNkbZihmPl"
   },
   "source": [
    "## TensorFlow"
   ]
  },
  {
   "cell_type": "code",
   "execution_count": null,
   "metadata": {
    "id": "Ldx4juiHhmPu"
   },
   "outputs": [],
   "source": [
    "import tensorflow as tf\n",
    "import numpy as np\n",
    "\n",
    "np.random.seed(0)"
   ]
  },
  {
   "cell_type": "code",
   "execution_count": null,
   "metadata": {
    "id": "p23GnpOWhmPu"
   },
   "outputs": [],
   "source": [
    "x = np.arange(100)/100\n",
    "y = x + np.random.normal(scale=0.05, size=100)"
   ]
  },
  {
   "cell_type": "code",
   "execution_count": null,
   "metadata": {
    "id": "pNI-ZtxyhmPu"
   },
   "outputs": [],
   "source": [
    "#Agregamos 1's en la primera columna al arreglo de x\n",
    "x = np.array([np.array([1, i]) for i in x])"
   ]
  },
  {
   "cell_type": "code",
   "execution_count": null,
   "metadata": {
    "id": "5CraRFUuiziY"
   },
   "outputs": [],
   "source": [
    "y = y.reshape((-1, 1))"
   ]
  },
  {
   "cell_type": "markdown",
   "metadata": {
    "id": "wmIVw_dZhmPu"
   },
   "source": [
    "Calcular $ z = (x^{T} x)^{-1} x^{T}y $"
   ]
  },
  {
   "cell_type": "code",
   "execution_count": null,
   "metadata": {
    "id": "uJ1Gr21ZlB7N"
   },
   "outputs": [],
   "source": []
  },
  {
   "cell_type": "markdown",
   "metadata": {
    "id": "ZLUwYTjHi3gk"
   },
   "source": [
    "## PyTorch"
   ]
  },
  {
   "cell_type": "code",
   "execution_count": null,
   "metadata": {
    "id": "Ama9_Okgi3gs"
   },
   "outputs": [],
   "source": [
    "import torch\n",
    "import numpy as np\n",
    "\n",
    "np.random.seed(0)"
   ]
  },
  {
   "cell_type": "code",
   "execution_count": null,
   "metadata": {
    "id": "1GmL-nU_i3gt"
   },
   "outputs": [],
   "source": [
    "x = np.arange(100)/100\n",
    "y = x + np.random.normal(scale=0.05, size=100)"
   ]
  },
  {
   "cell_type": "code",
   "execution_count": null,
   "metadata": {
    "id": "KOZEpbf2i3gt"
   },
   "outputs": [],
   "source": [
    "#Agregamos 1's en la primera columna al arreglo de x\n",
    "x = np.array([np.array([1, i]) for i in x])"
   ]
  },
  {
   "cell_type": "code",
   "execution_count": null,
   "metadata": {
    "id": "8n5yx2RKi3gt"
   },
   "outputs": [],
   "source": [
    "y = y.reshape((-1, 1))"
   ]
  },
  {
   "cell_type": "markdown",
   "metadata": {
    "id": "f3pISWXvi3gt"
   },
   "source": [
    "Calcular $ z = (x^{T} x)^{-1} x^{T}y $"
   ]
  },
  {
   "cell_type": "code",
   "execution_count": null,
   "metadata": {
    "id": "T1ZG6WxllAje"
   },
   "outputs": [],
   "source": []
  }
 ],
 "metadata": {
  "colab": {
   "collapsed_sections": [
    "Z2t5d-o4Hv1v",
    "KXPwZZNnIUfq",
    "jluy5bfBObHL",
    "Xh-1pX-2KwMA",
    "N96d9WmXLNKH",
    "IXSABwKKLVxC",
    "3nXQm4MHLh5y",
    "qMxqCFVBLq5I",
    "8tpI2OA8dx_1",
    "-nsScr9tfpCt",
    "tJE_5llnPQCK",
    "QIAvlQrlMkAg",
    "61isQk4NMNh0",
    "bMYePjvVQGbd",
    "CPv7oY2nS7sC",
    "9VWVubrmKULy",
    "IuPAmSGFXKma",
    "QtjlkUYDXKmd",
    "EERhW8nwXKmf",
    "Byr_cPZdXKmg",
    "mtd1z0p7XKmg",
    "HZayd3okXKmg",
    "-Mc6MBEQXKmh",
    "Y9OS97K9XKmi",
    "J0l0rYKxeEWY",
    "UMV5nS_DeVau",
    "2yxz4WopXKmi",
    "7C2F0WjgXKmi",
    "ROg3DnOkXKmj",
    "8-9zXNkXXKmk",
    "vQnNcCuqXKmm",
    "HbOqxfJBXKmp",
    "gZEi082hT_Fq",
    "ulkWBT4wT_Fr",
    "uv6CHfpMT_Fs",
    "bBp8b-bwT_Ft",
    "Zf2WZKw3T_Ft",
    "JLJzpJ7oT_Fu",
    "sz3T_TodT_Fu",
    "DT2lj9DgT_Fv",
    "Vq8EPCbogEWC",
    "_om7AGmRgEWJ",
    "bxidvmwgT_Fx",
    "yOvA58w5T_Fy",
    "OTq2XgDQT_F0",
    "3VZgWECaT_F2",
    "32oEK2HfT_F3",
    "H6S1fCHsZaaM",
    "nhLLHNBmZkD8",
    "fZWNkbZihmPl",
    "ZLUwYTjHi3gk"
   ],
   "name": "Introducción.ipynb",
   "provenance": []
  },
  "kernelspec": {
   "display_name": "Python 3",
   "language": "python",
   "name": "python3"
  },
  "language_info": {
   "codemirror_mode": {
    "name": "ipython",
    "version": 3
   },
   "file_extension": ".py",
   "mimetype": "text/x-python",
   "name": "python",
   "nbconvert_exporter": "python",
   "pygments_lexer": "ipython3",
   "version": "3.8.5"
  }
 },
 "nbformat": 4,
 "nbformat_minor": 1
}
